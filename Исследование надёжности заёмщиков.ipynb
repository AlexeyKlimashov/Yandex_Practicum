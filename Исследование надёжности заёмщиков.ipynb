{
 "cells": [
  {
   "cell_type": "markdown",
   "metadata": {},
   "source": [
    
   ]
  },
  {
   "cell_type": "markdown",
   "metadata": {},
   "source": [
    "## Исследование надёжности заёмщиков\n",
    "\n",
    "Заказчик — кредитный отдел банка. Нужно разобраться, влияет ли семейное положение и количество детей клиента на факт погашения кредита в срок. Входные данные от банка — статистика о платёжеспособности клиентов.\n",
    "\n",
    "Результаты исследования будут учтены при построении модели **кредитного скоринга** — специальной системы, которая оценивает способность потенциального заёмщика вернуть кредит банку."
   ]
  },
  {
   "cell_type": "markdown",
   "metadata": {},
   "source": [
    "### Шаг 1. Откройте файл с данными и изучите общую информацию. "
   ]
  },
  {
   "cell_type": "code",
   "execution_count": 1,
   "metadata": {},
   "outputs": [],
   "source": [
    "import pandas as pd\n",
    "credit = pd.read_csv('/datasets/data.csv')\n",
    "#print(credit)\n",
    "#print(credit.info())"
   ]
  },
  {
   "cell_type": "markdown",
   "metadata": {},
   "source": [
    "### Вывод"
   ]
  },
  {
   "cell_type": "markdown",
   "metadata": {},
   "source": [
    "Довольно большой массив данных. 12 столбцов. Есть пропуски - их необходимо заполнить. Так же присутствуют дубликаты их необходимо удалить."
   ]
  },
  {
   "cell_type": "markdown",
   "metadata": {},
   "source": [
    "### Шаг 2. Предобработка данных"
   ]
  },
  {
   "cell_type": "markdown",
   "metadata": {},
   "source": [
    "### Обработка пропусков"
   ]
  },
  {
   "cell_type": "code",
   "execution_count": 2,
   "metadata": {},
   "outputs": [],
   "source": [
    "#Просмотрим пропуски в каждом столбце и выведем те столбцы, в которых они присутствуют: \n",
    "#print(credit[credit['children'].isnull()].count()) # 0 пропусков\n",
    "#print(credit[credit['days_employed'].isnull()].count()) # 2174 пропуск\n",
    "#print(credit[credit['dob_years'].isnull()].count()) # 0 пропусков\n",
    "#print(credit[credit['education'].isnull()].count()) # 0 пропусков\n",
    "#print(credit[credit['education_id'].isnull()].count()) # 0 пропусков\n",
    "#print(credit[credit['family_status'].isnull()].count()) # 0 пропусков\n",
    "#print(credit[credit['family_status_id'].isnull()].count()) # 0 пропусков\n",
    "#print(credit[credit['gender'].isnull()].count())  # 0 пропусков\n",
    "#print(credit[credit['income_type'].isnull()].count()) # 0 пропусков\n",
    "#print(credit[credit['debt'].isnull()].count())  # 0 пропусков\n",
    "#print(credit[credit['total_income'].isnull()].count())  # 2174 пропуск\n",
    "#print(credit[credit['purpose'].isnull()].count())  # 0 пропусков"
   ]
  },
  {
   "cell_type": "code",
   "execution_count": 3,
   "metadata": {},
   "outputs": [],
   "source": [
    "#credit.isnull().sum()"
   ]
  },
  {
   "cell_type": "markdown",
   "metadata": {},
   "source": [
    "\n",
    "### Вывод"
   ]
  },
  {
   "cell_type": "markdown",
   "metadata": {},
   "source": [
    "2174 случая пропуска в двух столбцах: 'days_employed' и 'total_income'. Дни трудового стажа и доход. \n",
    "Скорее всего, эти данные взаимозависимые. Нет работы - нет дохода.\n",
    "В другом случае работа есть, но не официально. Соответственно и доход тоже \"серый\", его подтвердить невозможно."
   ]
  },
  {
   "cell_type": "markdown",
   "metadata": {},
   "source": [
    "### Замена типа данных"
   ]
  },
  {
   "cell_type": "code",
   "execution_count": 4,
   "metadata": {},
   "outputs": [],
   "source": [
    "#print(credit['days_employed'].isnull().groupby(credit['income_type']).sum().astype('int'))\n",
    "# Проверяем пропущенные значения стажа по типу занятости"
   ]
  },
  {
   "cell_type": "code",
   "execution_count": 5,
   "metadata": {},
   "outputs": [],
   "source": [
    "days_employed_gos = credit[credit['income_type'] == 'госслужащий']['days_employed'].median()\n",
    "credit.loc[credit['income_type'] == 'госслужащий', 'days_employed'] = credit.loc[credit['income_type'] == 'госслужащий', 'days_employed'].fillna(days_employed_gos)\n",
    "# заменили пропуски госслужащих на медианные значения"
   ]
  },
  {
   "cell_type": "code",
   "execution_count": 6,
   "metadata": {},
   "outputs": [],
   "source": [
    "days_employed_komp = credit[credit['income_type'] == 'компаньон']['days_employed'].median()\n",
    "credit.loc[credit['income_type'] == 'компаньон', 'days_employed'] = credit.loc[credit['income_type'] == 'компаньон', 'days_employed'].fillna(days_employed_komp)\n",
    "# заменили пропуски компаньонов на медианные значения"
   ]
  },
  {
   "cell_type": "code",
   "execution_count": 7,
   "metadata": {},
   "outputs": [],
   "source": [
    "days_employed_pensioner = credit[credit['income_type'] == 'пенсионер']['days_employed'].median()\n",
    "credit.loc[credit['income_type'] == 'пенсионер', 'days_employed'] = credit.loc[credit['income_type'] == 'пенсионер', 'days_employed'].fillna(days_employed_pensioner)\n",
    "# заменили пропуски пенсионеров на медианные значения"
   ]
  },
  {
   "cell_type": "code",
   "execution_count": 8,
   "metadata": {},
   "outputs": [],
   "source": [
    "days_employed_predp = credit[credit['income_type'] == 'предприниматель']['days_employed'].median()\n",
    "credit.loc[credit['income_type'] == 'предприниматель', 'days_employed'] = credit.loc[credit['income_type'] == 'предприниматель', 'days_employed'].fillna(days_employed_predp)\n",
    "# заменили пропуски предпринимателей на медианные значения"
   ]
  },
  {
   "cell_type": "code",
   "execution_count": 9,
   "metadata": {},
   "outputs": [],
   "source": [
    "days_employed_sotrud = credit[credit['income_type'] == 'сотрудник']['days_employed'].median()\n",
    "credit.loc[credit['income_type'] == 'сотрудник', 'days_employed'] = credit.loc[credit['income_type'] == 'сотрудник', 'days_employed'].fillna(days_employed_sotrud)\n",
    "# заменили пропуски сотрудников на медианные значения"
   ]
  },
  {
   "cell_type": "code",
   "execution_count": 10,
   "metadata": {
    "scrolled": true
   },
   "outputs": [],
   "source": [
    "#print(credit['total_income'].isnull().groupby(credit['income_type']).sum().astype('int'))\n",
    "# Проверяем пропущенные значения дохода по типу занятости"
   ]
  },
  {
   "cell_type": "code",
   "execution_count": 11,
   "metadata": {},
   "outputs": [],
   "source": [
    "total_income_gos = credit[credit['income_type'] == 'госслужащий']['total_income'].median()\n",
    "credit.loc[credit['income_type'] == 'госслужащий', 'total_income'] = credit.loc[credit['income_type'] == 'госслужащий', 'total_income'].fillna(days_employed_gos)\n",
    "# заменили пропуски госслужащих на медианные значения"
   ]
  },
  {
   "cell_type": "code",
   "execution_count": 12,
   "metadata": {},
   "outputs": [],
   "source": [
    "total_income_komp = credit[credit['income_type'] == 'компаньон']['total_income'].median()\n",
    "credit.loc[credit['income_type'] == 'компаньон', 'total_income'] = credit.loc[credit['income_type'] == 'компаньон', 'total_income'].fillna(days_employed_gos)\n",
    "# заменили пропуски компаньонов на медианные значения"
   ]
  },
  {
   "cell_type": "code",
   "execution_count": 13,
   "metadata": {},
   "outputs": [],
   "source": [
    "total_income_pensioner = credit[credit['income_type'] == 'пенсионер']['total_income'].median()\n",
    "credit.loc[credit['income_type'] == 'пенсионер', 'total_income'] = credit.loc[credit['income_type'] == 'пенсионер', 'total_income'].fillna(days_employed_pensioner)\n",
    "# заменили пропуски пенсионеров на медианные значения"
   ]
  },
  {
   "cell_type": "code",
   "execution_count": 14,
   "metadata": {},
   "outputs": [],
   "source": [
    "total_income_predp = credit[credit['income_type'] == 'предприниматель']['total_income'].median()\n",
    "credit.loc[credit['income_type'] == 'предприниматель', 'total_income'] = credit.loc[credit['income_type'] == 'предприниматель', 'total_income'].fillna(days_employed_predp)\n",
    "# заменили пропуски пердпринимателей на медианные значения"
   ]
  },
  {
   "cell_type": "code",
   "execution_count": 15,
   "metadata": {},
   "outputs": [],
   "source": [
    "total_income_sotrud = credit[credit['income_type'] == 'сотрудник']['total_income'].median()\n",
    "credit.loc[credit['income_type'] == 'сотрудник', 'total_income'] = credit.loc[credit['income_type'] == 'сотрудник', 'total_income'].fillna(days_employed_sotrud)\n",
    "# заменили пропуски сотрудников на медианные значения"
   ]
  },
  {
   "cell_type": "code",
   "execution_count": 16,
   "metadata": {},
   "outputs": [],
   "source": [
    "credit['children']= abs(credit['children']) # отрицательные значения столбцов переводим в положительные \n",
    "credit['days_employed']= abs(credit['days_employed']) # Эх, так хотелось умножить на -1, да на конференции не разрешили"
   ]
  },
  {
   "cell_type": "code",
   "execution_count": 17,
   "metadata": {},
   "outputs": [],
   "source": [
    "credit['days_employed']= credit['days_employed'].apply(lambda x: x/365) # Переводим дни стажа в годы"
   ]
  },
  {
   "cell_type": "code",
   "execution_count": 18,
   "metadata": {},
   "outputs": [],
   "source": [
    "credit['days_employed'] = credit['days_employed'].astype('int')\n",
    "credit['total_income'] = credit['total_income'].astype('int') # Доход и стаж переводим в 'int'"
   ]
  },
  {
   "cell_type": "markdown",
   "metadata": {},
   "source": [
    "### Вывод"
   ]
  },
  {
   "cell_type": "markdown",
   "metadata": {},
   "source": [
    "Сделали таблицу более наполненной.\n",
    "Заменили пропуски в двух столбцах на медианные значения по типу занятости.\n",
    "Стаж работы и количество детей сделали положительным.\n",
    "Стаж перевели в годы.\n",
    "Доход и стаж перевели в int."
   ]
  },
  {
   "cell_type": "markdown",
   "metadata": {},
   "source": [
    ">\n",
   ]
  },
  {
   "cell_type": "markdown",
   "metadata": {},
   "source": [
    "### Обработка дубликатов"
   ]
  },
  {
   "cell_type": "code",
   "execution_count": 19,
   "metadata": {},
   "outputs": [],
   "source": [
    "credit['education'] = credit['education'].str.lower() # Привёл столбец с образованием к одному регистру, далее всё работает с новыми данными."
   ]
  },
  {
   "cell_type": "code",
   "execution_count": 20,
   "metadata": {},
   "outputs": [
    {
     "data": {
      "text/plain": [
       "71"
      ]
     },
     "execution_count": 20,
     "metadata": {},
     "output_type": "execute_result"
    }
   ],
   "source": [
    "credit.duplicated().sum() # Смотрим количество дубликатов"
   ]
  },
  {
   "cell_type": "code",
   "execution_count": 21,
   "metadata": {},
   "outputs": [],
   "source": [
    "#credit[credit.duplicated(keep=False)].sort_values(by=['total_income', 'days_employed'])"
   ]
  },
  {
   "cell_type": "code",
   "execution_count": 22,
   "metadata": {},
   "outputs": [],
   "source": [
    "credit = credit.drop_duplicates() # Удаляем дубликаты"
   ]
  },
  {
   "cell_type": "code",
   "execution_count": 23,
   "metadata": {},
   "outputs": [
    {
     "data": {
      "text/plain": [
       "0"
      ]
     },
     "execution_count": 23,
     "metadata": {},
     "output_type": "execute_result"
    }
   ],
   "source": [
    "credit.duplicated().sum() # дубликатов нет"
   ]
  },
  {
   "cell_type": "markdown",
   "metadata": {},
   "source": [
    ">\n",
   ]
  },
  {
   "cell_type": "code",
   "execution_count": 24,
   "metadata": {},
   "outputs": [
    {
     "data": {
      "text/plain": [
       "среднее                15172\n",
       "высшее                  5250\n",
       "неоконченное высшее      744\n",
       "начальное                282\n",
       "ученая степень             6\n",
       "Name: education, dtype: int64"
      ]
     },
     "execution_count": 24,
     "metadata": {},
     "output_type": "execute_result"
    }
   ],
   "source": [
    "### Код ревьювера ###\n",
    "\n",
    "credit['education'].value_counts()"
   ]
  },
  {
   "cell_type": "markdown",
   "metadata": {},
   "source": [
    "### Вывод"
   ]
  },
  {
   "cell_type": "markdown",
   "metadata": {},
   "source": [
    "Удалили дубликаты, так как они могут помешать оценке финальных значений. Причина дубликатов может быть разная: задвоение данных при копировании базы. "
   ]
  },
  {
   "cell_type": "markdown",
   "metadata": {},
   "source": [
    "### Лемматизация"
   ]
  },
  {
   "cell_type": "code",
   "execution_count": 25,
   "metadata": {},
   "outputs": [],
   "source": [
    "unique_purposes = credit['purpose'].value_counts().index.tolist()\n",
    "#print(credit['purpose'].value_counts().to_frame()) # Смотрим уникальные цели в столбце с 'purpose'"
   ]
  },
  {
   "cell_type": "code",
   "execution_count": 26,
   "metadata": {},
   "outputs": [
    {
     "data": {
      "text/plain": [
       "[(' ', 33570),\n",
       " ('\\n', 21454),\n",
       " ('недвижимость', 6351),\n",
       " ('покупка', 5897),\n",
       " ('жилье', 4460),\n",
       " ('автомобиль', 4306),\n",
       " ('образование', 4013),\n",
       " ('с', 2918),\n",
       " ('операция', 2604),\n",
       " ('свадьба', 2324),\n",
       " ('свой', 2230),\n",
       " ('на', 2222),\n",
       " ('строительство', 1878),\n",
       " ('высокий', 1374),\n",
       " ('получение', 1314),\n",
       " ('коммерческий', 1311),\n",
       " ('для', 1289),\n",
       " ('жилой', 1230),\n",
       " ('сделка', 941),\n",
       " ('дополнительный', 906),\n",
       " ('заниматься', 904),\n",
       " ('проведение', 768),\n",
       " ('сыграть', 765),\n",
       " ('сдача', 651),\n",
       " ('семья', 638),\n",
       " ('собственный', 635),\n",
       " ('со', 627),\n",
       " ('ремонт', 607),\n",
       " ('подержанный', 486),\n",
       " ('подержать', 478),\n",
       " ('приобретение', 461),\n",
       " ('профильный', 436)]"
      ]
     },
     "execution_count": 26,
     "metadata": {},
     "output_type": "execute_result"
    }
   ],
   "source": [
    "from pymystem3 import Mystem\n",
    "m = Mystem()\n",
    "from collections import Counter\n",
    "list_of_lemmas = []\n",
    "for element in credit['purpose']:\n",
    "    lemma = m.lemmatize(element)\n",
    "    list_of_lemmas.extend(lemma)\n",
    "\n",
    "unique_lemmas = Counter(list_of_lemmas)\n",
    "sorted(unique_lemmas.items(), key = lambda pair: pair[1], reverse=True) # Воспользовавшись pymystem3 лематизировали список"
   ]
  },
  {
   "cell_type": "markdown",
   "metadata": {},
   "source": [
    ">\n",
   ]
  },
  {
   "cell_type": "code",
   "execution_count": 27,
   "metadata": {},
   "outputs": [],
   "source": [
    "final_list_of_purposes = [k for k in sorted(unique_lemmas, key=unique_lemmas.get, reverse=True)\n",
    "                          if len(k) >= 5 if k != ' ' if k != '\\n'][0:10]\n",
    "#print(final_list_of_purposes) # взяли слова из первых 10 строк длиной 5 и более букв, выкинули из списка пробелы и непонятные значения '\\n'."
   ]
  },
  {
   "cell_type": "code",
   "execution_count": 28,
   "metadata": {},
   "outputs": [],
   "source": [
    "final_list_of_purposes.remove('покупка') # Много общего со всеми категориями\n",
    "final_list_of_purposes.remove('строительство') # Относится к жилью\n",
    "final_list_of_purposes.remove('операция') # Относится к жилью\n",
    "final_list_of_purposes.remove('высокий') # Относится к образованию\n",
    "final_list_of_purposes.remove('получение') # Относится к образованию\n",
    "#print(final_list_of_purposes)"
   ]
  },
  {
   "cell_type": "markdown",
   "metadata": {},
   "source": [
   ]
  },
  {
   "cell_type": "code",
   "execution_count": 29,
   "metadata": {},
   "outputs": [],
   "source": [
    "from nltk.stem import SnowballStemmer \n",
    "russian_stemmer = SnowballStemmer('russian')\n",
    "stemmed_purposes = [russian_stemmer.stem(word) for word in final_list_of_purposes] # Провели стемминг отобранных слов\n",
    "#print(stemmed_purposes)"
   ]
  },
  {
   "cell_type": "markdown",
   "metadata": {},
   "source": [
    "# Вывод"
   ]
  },
  {
   "cell_type": "markdown",
   "metadata": {},
   "source": [
    "Вывели 5 основных целей получения кредита и провели стемминг."
   ]
  },
  {
   "cell_type": "markdown",
   "metadata": {},
   "source": [
    "### Категоризация данных"
   ]
  },
  {
   "cell_type": "code",
   "execution_count": 30,
   "metadata": {},
   "outputs": [
    {
     "name": "stdout",
     "output_type": "stream",
     "text": [
      "{'недвижим': 1, 'жил': 1, 'автомобил': 2, 'образован': 3, 'свадьб': 4}\n"
     ]
    }
   ],
   "source": [
    "dict_stem_purposes = {v:k for k,v in enumerate(stemmed_purposes)}\n",
    "dict_stem_purposes['недвижим'] = 1\n",
    "print(dict_stem_purposes) # Присвоили каждой цели свой номер, при этом жильё и недвижимость отнесли в одну категорию"
   ]
  },
  {
   "cell_type": "code",
   "execution_count": 31,
   "metadata": {},
   "outputs": [],
   "source": [
    "credit['purpose_cat'] = 0\n",
    "for row in range(len(credit)):\n",
    "    for purpose in dict_stem_purposes:\n",
    "        if purpose in credit.iloc[row, 11]:\n",
    "            credit.iloc[row, 12] = dict_stem_purposes[purpose] # Создаём новый столбец с присвоением каждой цели своего номера"
   ]
  },
  {
   "cell_type": "markdown",
   "metadata": {},
   "source": [
   ]
  },
  {
   "cell_type": "code",
   "execution_count": 32,
   "metadata": {},
   "outputs": [],
   "source": [
    "def children_cat(row):\n",
    "    if row['children'] == 0:\n",
    "        return '0'\n",
    "    elif row['children'] == 1:\n",
    "        return '1'\n",
    "    elif row['children'] == 2:\n",
    "        return '2'\n",
    "    else:\n",
    "        return '3' # Создаём новый столбец и категоризируем по количеству детей"
   ]
  },
  {
   "cell_type": "code",
   "execution_count": 33,
   "metadata": {},
   "outputs": [],
   "source": [
    "credit['children_cat'] = credit.apply(children_cat, axis=1)"
   ]
  },
  {
   "cell_type": "code",
   "execution_count": 34,
   "metadata": {},
   "outputs": [],
   "source": [
    "def total_income_cat(row):\n",
    "    if row['total_income'] <= 60000:\n",
    "        return 'бедный'\n",
    "    elif 60000 < row['total_income'] <= 150000:\n",
    "        return 'средний'\n",
    "    elif 150000 < row['total_income'] < 1000000:\n",
    "        return 'богатый'\n",
    "    else:\n",
    "        return 'сверхбогатый' # Новый столбец с категоризацией по доходу\n",
    "    \n",
   ]
  },
  {
   "cell_type": "code",
   "execution_count": 35,
   "metadata": {},
   "outputs": [],
   "source": [
    "credit['total_income_cat'] = credit.apply(total_income_cat, axis=1)"
   ]
  },
  {
   "cell_type": "code",
   "execution_count": 36,
   "metadata": {},
   "outputs": [],
   "source": [
    "#credit.head(40)"
   ]
  },
  {
   "cell_type": "code",
   "execution_count": 37,
   "metadata": {},
   "outputs": [
    {
     "data": {
      "text/plain": [
       "count      21454\n",
       "mean      157421\n",
       "std       111645\n",
       "min        -2689\n",
       "25%        92839\n",
       "50%       138975\n",
       "75%       201340\n",
       "max      2265604\n",
       "Name: total_income, dtype: int64"
      ]
     },
     "execution_count": 37,
     "metadata": {},
     "output_type": "execute_result"
    }
   ],
   "source": [
    "\n",
    "\n",
    "credit['total_income'].describe().astype('int')"
   ]
  },
  {
   "cell_type": "markdown",
   "metadata": {},
   "source": [
    "### Вывод"
   ]
  },
  {
   "cell_type": "markdown",
   "metadata": {},
   "source": [
    "Категоризировали таблицу по количеству детей, доходу и цели кредита. Так как эти данные нам понадобятся для ответов на итоговые вопросы.\n",
    "По семейному положению и образованию она уже категоризированна."
   ]
  },
  {
   "cell_type": "markdown",
   "metadata": {},
   "source": [
   ]
  },
  {
   "cell_type": "markdown",
   "metadata": {},
   "source": [
    "### Шаг 3. Ответьте на вопросы"
   ]
  },
  {
   "cell_type": "markdown",
   "metadata": {},
   "source": [
    "- Есть ли зависимость между наличием детей и возвратом кредита в срок?"
   ]
  },
  {
   "cell_type": "code",
   "execution_count": 38,
   "metadata": {},
   "outputs": [],
   "source": [
    "def relation(category):\n",
    "    return credit.groupby(category)['debt'].mean().to_frame().sort_values(by='debt') # Написали функцию для вывода информации"
   ]
  },
  {
   "cell_type": "code",
   "execution_count": 39,
   "metadata": {},
   "outputs": [
    {
     "data": {
      "text/html": [
       "<div>\n",
       "<style scoped>\n",
       "    .dataframe tbody tr th:only-of-type {\n",
       "        vertical-align: middle;\n",
       "    }\n",
       "\n",
       "    .dataframe tbody tr th {\n",
       "        vertical-align: top;\n",
       "    }\n",
       "\n",
       "    .dataframe thead th {\n",
       "        text-align: right;\n",
       "    }\n",
       "</style>\n",
       "<table border=\"1\" class=\"dataframe\">\n",
       "  <thead>\n",
       "    <tr style=\"text-align: right;\">\n",
       "      <th></th>\n",
       "      <th>debt</th>\n",
       "    </tr>\n",
       "    <tr>\n",
       "      <th>children_cat</th>\n",
       "      <th></th>\n",
       "    </tr>\n",
       "  </thead>\n",
       "  <tbody>\n",
       "    <tr>\n",
       "      <td>0</td>\n",
       "      <td>0.075438</td>\n",
       "    </tr>\n",
       "    <tr>\n",
       "      <td>3</td>\n",
       "      <td>0.085526</td>\n",
       "    </tr>\n",
       "    <tr>\n",
       "      <td>1</td>\n",
       "      <td>0.091658</td>\n",
       "    </tr>\n",
       "    <tr>\n",
       "      <td>2</td>\n",
       "      <td>0.094542</td>\n",
       "    </tr>\n",
       "  </tbody>\n",
       "</table>\n",
       "</div>"
      ],
      "text/plain": [
       "                  debt\n",
       "children_cat          \n",
       "0             0.075438\n",
       "3             0.085526\n",
       "1             0.091658\n",
       "2             0.094542"
      ]
     },
     "execution_count": 39,
     "metadata": {},
     "output_type": "execute_result"
    }
   ],
   "source": [
    "relation('children_cat')"
   ]
  },
  {
   "cell_type": "markdown",
   "metadata": {},
   "source": [
    "### Вывод"
   ]
  },
  {
   "cell_type": "markdown",
   "metadata": {},
   "source": [
    "Больше всего задолженников среди тех, кто  имеет двоих детей.\n",
    "Лучше всех справляются те, у кого совсем нет детей.\n",
    "Также стоит обратить внимание на многодетную группу - она справляется лучше чем те, у кого 1 или 2 ребенка."
   ]
  },
  {
   "cell_type": "markdown",
   "metadata": {},
   "source": [
    "- Есть ли зависимость между семейным положением и возвратом кредита в срок?"
   ]
  },
  {
   "cell_type": "code",
   "execution_count": 40,
   "metadata": {},
   "outputs": [
    {
     "data": {
      "text/html": [
       "<div>\n",
       "<style scoped>\n",
       "    .dataframe tbody tr th:only-of-type {\n",
       "        vertical-align: middle;\n",
       "    }\n",
       "\n",
       "    .dataframe tbody tr th {\n",
       "        vertical-align: top;\n",
       "    }\n",
       "\n",
       "    .dataframe thead th {\n",
       "        text-align: right;\n",
       "    }\n",
       "</style>\n",
       "<table border=\"1\" class=\"dataframe\">\n",
       "  <thead>\n",
       "    <tr style=\"text-align: right;\">\n",
       "      <th></th>\n",
       "      <th>debt</th>\n",
       "    </tr>\n",
       "    <tr>\n",
       "      <th>family_status</th>\n",
       "      <th></th>\n",
       "    </tr>\n",
       "  </thead>\n",
       "  <tbody>\n",
       "    <tr>\n",
       "      <td>вдовец / вдова</td>\n",
       "      <td>0.065693</td>\n",
       "    </tr>\n",
       "    <tr>\n",
       "      <td>в разводе</td>\n",
       "      <td>0.071130</td>\n",
       "    </tr>\n",
       "    <tr>\n",
       "      <td>женат / замужем</td>\n",
       "      <td>0.075452</td>\n",
       "    </tr>\n",
       "    <tr>\n",
       "      <td>гражданский брак</td>\n",
       "      <td>0.093471</td>\n",
       "    </tr>\n",
       "    <tr>\n",
       "      <td>Не женат / не замужем</td>\n",
       "      <td>0.097509</td>\n",
       "    </tr>\n",
       "  </tbody>\n",
       "</table>\n",
       "</div>"
      ],
      "text/plain": [
       "                           debt\n",
       "family_status                  \n",
       "вдовец / вдова         0.065693\n",
       "в разводе              0.071130\n",
       "женат / замужем        0.075452\n",
       "гражданский брак       0.093471\n",
       "Не женат / не замужем  0.097509"
      ]
     },
     "execution_count": 40,
     "metadata": {},
     "output_type": "execute_result"
    }
   ],
   "source": [
    "relation('family_status')"
   ]
  },
  {
   "cell_type": "markdown",
   "metadata": {},
   "source": [
    "### Вывод"
   ]
  },
  {
   "cell_type": "markdown",
   "metadata": {},
   "source": [
    "Вдовцы лучше всего выплачивают кредит.\n",
    "Люди, которые не состоят в законных отношениях сильнее всего склонны к просрочке по кредитам."
   ]
  },
  {
   "cell_type": "markdown",
   "metadata": {},
   "source": [
    "- Есть ли зависимость между уровнем дохода и возвратом кредита в срок?"
   ]
  },
  {
   "cell_type": "code",
   "execution_count": 41,
   "metadata": {},
   "outputs": [
    {
     "data": {
      "text/html": [
       "<div>\n",
       "<style scoped>\n",
       "    .dataframe tbody tr th:only-of-type {\n",
       "        vertical-align: middle;\n",
       "    }\n",
       "\n",
       "    .dataframe tbody tr th {\n",
       "        vertical-align: top;\n",
       "    }\n",
       "\n",
       "    .dataframe thead th {\n",
       "        text-align: right;\n",
       "    }\n",
       "</style>\n",
       "<table border=\"1\" class=\"dataframe\">\n",
       "  <thead>\n",
       "    <tr style=\"text-align: right;\">\n",
       "      <th></th>\n",
       "      <th>debt</th>\n",
       "    </tr>\n",
       "    <tr>\n",
       "      <th>total_income_cat</th>\n",
       "      <th></th>\n",
       "    </tr>\n",
       "  </thead>\n",
       "  <tbody>\n",
       "    <tr>\n",
       "      <td>бедный</td>\n",
       "      <td>0.072929</td>\n",
       "    </tr>\n",
       "    <tr>\n",
       "      <td>богатый</td>\n",
       "      <td>0.079518</td>\n",
       "    </tr>\n",
       "    <tr>\n",
       "      <td>сверхбогатый</td>\n",
       "      <td>0.080000</td>\n",
       "    </tr>\n",
       "    <tr>\n",
       "      <td>средний</td>\n",
       "      <td>0.085034</td>\n",
       "    </tr>\n",
       "  </tbody>\n",
       "</table>\n",
       "</div>"
      ],
      "text/plain": [
       "                      debt\n",
       "total_income_cat          \n",
       "бедный            0.072929\n",
       "богатый           0.079518\n",
       "сверхбогатый      0.080000\n",
       "средний           0.085034"
      ]
     },
     "execution_count": 41,
     "metadata": {},
     "output_type": "execute_result"
    }
   ],
   "source": [
    "relation('total_income_cat')"
   ]
  },
  {
   "cell_type": "markdown",
   "metadata": {},
   "source": [
    "### Вывод"
   ]
  },
  {
   "cell_type": "markdown",
   "metadata": {},
   "source": [
    "Люди с низким доходом менее склонны к просрочкам по кредитам.\n",
    "Выше всего доля просрочек у людей со средним достатком."
   ]
  },
  {
   "cell_type": "markdown",
   "metadata": {},
   "source": [
    "- Как разные цели кредита влияют на его возврат в срок?"
   ]
  },
  {
   "cell_type": "code",
   "execution_count": 42,
   "metadata": {},
   "outputs": [
    {
     "data": {
      "text/html": [
       "<div>\n",
       "<style scoped>\n",
       "    .dataframe tbody tr th:only-of-type {\n",
       "        vertical-align: middle;\n",
       "    }\n",
       "\n",
       "    .dataframe tbody tr th {\n",
       "        vertical-align: top;\n",
       "    }\n",
       "\n",
       "    .dataframe thead th {\n",
       "        text-align: right;\n",
       "    }\n",
       "</style>\n",
       "<table border=\"1\" class=\"dataframe\">\n",
       "  <thead>\n",
       "    <tr style=\"text-align: right;\">\n",
       "      <th></th>\n",
       "      <th>debt</th>\n",
       "    </tr>\n",
       "    <tr>\n",
       "      <th>purpose_cat</th>\n",
       "      <th></th>\n",
       "    </tr>\n",
       "  </thead>\n",
       "  <tbody>\n",
       "    <tr>\n",
       "      <td>1</td>\n",
       "      <td>0.072334</td>\n",
       "    </tr>\n",
       "    <tr>\n",
       "      <td>4</td>\n",
       "      <td>0.080034</td>\n",
       "    </tr>\n",
       "    <tr>\n",
       "      <td>3</td>\n",
       "      <td>0.092200</td>\n",
       "    </tr>\n",
       "    <tr>\n",
       "      <td>2</td>\n",
       "      <td>0.093590</td>\n",
       "    </tr>\n",
       "  </tbody>\n",
       "</table>\n",
       "</div>"
      ],
      "text/plain": [
       "                 debt\n",
       "purpose_cat          \n",
       "1            0.072334\n",
       "4            0.080034\n",
       "3            0.092200\n",
       "2            0.093590"
      ]
     },
     "execution_count": 42,
     "metadata": {},
     "output_type": "execute_result"
    }
   ],
   "source": [
    "relation('purpose_cat')"
   ]
  },
  {
   "cell_type": "markdown",
   "metadata": {},
   "source": [
    "### Вывод"
   ]
  },
  {
   "cell_type": "markdown",
   "metadata": {},
   "source": [
    "Люди, которые берут кредит для покупки жилья имеют наименьшее количество просрочек по кредитам.\n",
    "А те, кто покупает автомобиль или берут деньги на образование имеют больше всех просрочек.\n",
    "Образование в данном случае может быть оправданно - люди учаться, соответственно времени для работы у них меньше, что даёт падение дохода."
   ]
  },
  {
   "cell_type": "markdown",
   "metadata": {},
   "source": [
    "### Шаг 4. Общий вывод"
   ]
  },
  {
   "cell_type": "markdown",
   "metadata": {},
   "source": [
    "В целом, по данным исследования можно собрать картину \"хорошего\" и \"плохого\" заёмщика.\n",
    "\"Хороший\" заёмщик: Не имеет детей, вдовец/вдова или в разводе, имеет доход <60к и берёт кредит на покупку жилья.\n",
    "\"Плохой\" заёмщик: Имеет два ребенка, не женат/не замужем или живёт в гражданском браке, имеет доход от 60к до 120к, берёт кредит на машину или на обучение."
   ]
  },
  {
   "cell_type": "markdown",
   "metadata": {},
   "source": [
   ]
  },
  {
   "cell_type": "markdown",
   "metadata": {},
   "source": [
    "### Чек-лист готовности проекта\n",
    "\n",
    "Поставьте 'x' в выполненных пунктах. Далее нажмите Shift+Enter."
   ]
  },
  {
   "cell_type": "markdown",
   "metadata": {},
   "source": [
    "- [x]  открыт файл;\n",
    "- [x]  файл изучен;\n",
    "- [x]  определены пропущенные значения;\n",
    "- [x]  заполнены пропущенные значения;\n",
    "- [x]  есть пояснение, какие пропущенные значения обнаружены;\n",
    "- [x]  описаны возможные причины появления пропусков в данных;\n",
    "- [x]  объяснено, по какому принципу заполнены пропуски;\n",
    "- [x]  заменен вещественный тип данных на целочисленный;\n",
    "- [x]  есть пояснение, какой метод используется для изменения типа данных и почему;\n",
    "- [x]  удалены дубликаты;\n",
    "- [x]  есть пояснение, какой метод используется для поиска и удаления дубликатов;\n",
    "- [x]  описаны возможные причины появления дубликатов в данных;\n",
    "- [x]  выделены леммы в значениях столбца с целями получения кредита;\n",
    "- [x]  описан процесс лемматизации;\n",
    "- [x]  данные категоризированы;\n",
    "- [x]  есть объяснение принципа категоризации данных;\n",
    "- [x]  есть ответ на вопрос: \"Есть ли зависимость между наличием детей и возвратом кредита в срок?\";\n",
    "- [x]  есть ответ на вопрос: \"Есть ли зависимость между семейным положением и возвратом кредита в срок?\";\n",
    "- [x]  есть ответ на вопрос: \"Есть ли зависимость между уровнем дохода и возвратом кредита в срок?\";\n",
    "- [x]  есть ответ на вопрос: \"Как разные цели кредита влияют на его возврат в срок?\";\n",
    "- [x]  в каждом этапе есть выводы;\n",
    "- [x]  есть общий вывод."
   ]
  }
 ],
 "metadata": {
  "kernelspec": {
   "display_name": "Python 3",
   "language": "python",
   "name": "python3"
  },
  "language_info": {
   "codemirror_mode": {
    "name": "ipython",
    "version": 3
   },
   "file_extension": ".py",
   "mimetype": "text/x-python",
   "name": "python",
   "nbconvert_exporter": "python",
   "pygments_lexer": "ipython3",
   "version": "3.7.6"
  }
 },
 "nbformat": 4,
 "nbformat_minor": 2
}
