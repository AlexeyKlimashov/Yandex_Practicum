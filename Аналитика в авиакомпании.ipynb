{
 "cells": [
  {
   "cell_type": "markdown",
   "metadata": {},
   "source": [
    "# Описание данных."
   ]
  },
  {
   "cell_type": "markdown",
   "metadata": {},
   "source": [
    "База данных об авиаперевозках: Таблица airports — информация об аэропортах:\n",
    "* airport_code — трёхбуквенный код аэропорта \n",
    "* airport_name — название аэропорта \n",
    "* city — город \n",
    "* timezone — временная зона \n",
    "\n",
    "Таблица aircrafts — информация об самолётах:\n",
    "* aircraft_code — код модели самолёта \n",
    "* model — модель самолёта \n",
    "* range — количество самолётов \n",
    "\n",
    "Таблица tickets — информация о билетах:\n",
    "* ticket_no — уникальный номер билета \n",
    "* passenger_id — персональный идентификатор пассажира \n",
    "* passenger_name — имя и фамилия пассажира \n",
    "\n",
    "Таблица flights — информация о рейсах:\n",
    "* flight_id — уникальный идентификатор рейса \n",
    "* departure_airport — аэропорт вылета \n",
    "* departure_time — дата и время вылета \n",
    "* arrival_airport — аэропорт прилёта \n",
    "* arrival_time — дата и время прилёта \n",
    "* aircraft_code – id самолёта Таблица \n",
    "\n",
    "ticket_flights — стыковая таблица «рейсы-билеты»\n",
    "* ticket_no — номер билета \n",
    "* flight_id — идентификатор рейса \n",
    "\n",
    "Таблица festivals — информация о фестивалях\n",
    "* festival_id — уникальный номер фестиваля \n",
    "* festival_date — дата проведения фестиваля \n",
    "* festival_city — город проведения фестиваля \n",
    "* festival_name — название фестиваля"
   ]
  },
  {
   "cell_type": "markdown",
   "metadata": {},
   "source": [
    "Поехали."
   ]
  },
  {
   "cell_type": "markdown",
   "metadata": {},
   "source": [
    "*Импортируем библиотеки.*"
   ]
  },
  {
   "cell_type": "code",
   "execution_count": 1,
   "metadata": {},
   "outputs": [],
   "source": [
    "import pandas as pd\n",
    "import numpy as np\n",
    "import matplotlib.pyplot as plt\n",
    "from scipy import stats as st\n",
    "import seaborn as sns\n",
    "%matplotlib inline"
   ]
  },
  {
   "cell_type": "code",
   "execution_count": 2,
   "metadata": {},
   "outputs": [],
   "source": [
    "def for_plot(data, x, y):\n",
    "    sns.set_palette('pastel')\n",
    "    plt.figure(figsize=(18,4))\n",
    "    sns.barplot(x = x, y = y, data = data)\n",
    "    plt.xlabel(x)\n",
    "    plt.xticks(rotation=90)\n",
    "    plt.ylabel(y)\n",
    "    plt.palette = 'Blues'\n",
    "    plt.show()\n",
    "    print(data.sort_values(by = y, ascending = False).head(10).reset_index(drop=True))\n",
    "    print('-------------------------------------')\n",
    "    print('В среднем:', data[y].mean())\n",
    "    print('-------------------------------------')"
   ]
  },
  {
   "cell_type": "code",
   "execution_count": 3,
   "metadata": {},
   "outputs": [],
   "source": [
    "model_flights = pd.read_csv('/datasets/query_1.csv')\n",
    "city_flights = pd.read_csv('/datasets/query_3.csv')"
   ]
  },
  {
   "cell_type": "markdown",
   "metadata": {},
   "source": [
    "*Смотрим данные по количеству совершенных полетов по каждой модели самолета:*"
   ]
  },
  {
   "cell_type": "code",
   "execution_count": 4,
   "metadata": {},
   "outputs": [
    {
     "data": {
      "text/html": [
       "<style  type=\"text/css\" >\n",
       "</style><table id=\"T_a2a62da4_cb50_11ea_ab9c_02420a391a7d\" ><caption>Данные по количеству совершенных полетов по каждой модели самолета</caption><thead>    <tr>        <th class=\"blank level0\" ></th>        <th class=\"col_heading level0 col0\" >model</th>        <th class=\"col_heading level0 col1\" >flights_amount</th>    </tr></thead><tbody>\n",
       "                <tr>\n",
       "                        <th id=\"T_a2a62da4_cb50_11ea_ab9c_02420a391a7dlevel0_row0\" class=\"row_heading level0 row0\" >0</th>\n",
       "                        <td id=\"T_a2a62da4_cb50_11ea_ab9c_02420a391a7drow0_col0\" class=\"data row0 col0\" >Airbus A319-100</td>\n",
       "                        <td id=\"T_a2a62da4_cb50_11ea_ab9c_02420a391a7drow0_col1\" class=\"data row0 col1\" >607</td>\n",
       "            </tr>\n",
       "            <tr>\n",
       "                        <th id=\"T_a2a62da4_cb50_11ea_ab9c_02420a391a7dlevel0_row1\" class=\"row_heading level0 row1\" >1</th>\n",
       "                        <td id=\"T_a2a62da4_cb50_11ea_ab9c_02420a391a7drow1_col0\" class=\"data row1 col0\" >Airbus A321-200</td>\n",
       "                        <td id=\"T_a2a62da4_cb50_11ea_ab9c_02420a391a7drow1_col1\" class=\"data row1 col1\" >960</td>\n",
       "            </tr>\n",
       "            <tr>\n",
       "                        <th id=\"T_a2a62da4_cb50_11ea_ab9c_02420a391a7dlevel0_row2\" class=\"row_heading level0 row2\" >2</th>\n",
       "                        <td id=\"T_a2a62da4_cb50_11ea_ab9c_02420a391a7drow2_col0\" class=\"data row2 col0\" >Boeing 737-300</td>\n",
       "                        <td id=\"T_a2a62da4_cb50_11ea_ab9c_02420a391a7drow2_col1\" class=\"data row2 col1\" >630</td>\n",
       "            </tr>\n",
       "            <tr>\n",
       "                        <th id=\"T_a2a62da4_cb50_11ea_ab9c_02420a391a7dlevel0_row3\" class=\"row_heading level0 row3\" >3</th>\n",
       "                        <td id=\"T_a2a62da4_cb50_11ea_ab9c_02420a391a7drow3_col0\" class=\"data row3 col0\" >Boeing 767-300</td>\n",
       "                        <td id=\"T_a2a62da4_cb50_11ea_ab9c_02420a391a7drow3_col1\" class=\"data row3 col1\" >600</td>\n",
       "            </tr>\n",
       "            <tr>\n",
       "                        <th id=\"T_a2a62da4_cb50_11ea_ab9c_02420a391a7dlevel0_row4\" class=\"row_heading level0 row4\" >4</th>\n",
       "                        <td id=\"T_a2a62da4_cb50_11ea_ab9c_02420a391a7drow4_col0\" class=\"data row4 col0\" >Boeing 777-300</td>\n",
       "                        <td id=\"T_a2a62da4_cb50_11ea_ab9c_02420a391a7drow4_col1\" class=\"data row4 col1\" >300</td>\n",
       "            </tr>\n",
       "            <tr>\n",
       "                        <th id=\"T_a2a62da4_cb50_11ea_ab9c_02420a391a7dlevel0_row5\" class=\"row_heading level0 row5\" >5</th>\n",
       "                        <td id=\"T_a2a62da4_cb50_11ea_ab9c_02420a391a7drow5_col0\" class=\"data row5 col0\" >Bombardier CRJ-200</td>\n",
       "                        <td id=\"T_a2a62da4_cb50_11ea_ab9c_02420a391a7drow5_col1\" class=\"data row5 col1\" >4446</td>\n",
       "            </tr>\n",
       "            <tr>\n",
       "                        <th id=\"T_a2a62da4_cb50_11ea_ab9c_02420a391a7dlevel0_row6\" class=\"row_heading level0 row6\" >6</th>\n",
       "                        <td id=\"T_a2a62da4_cb50_11ea_ab9c_02420a391a7drow6_col0\" class=\"data row6 col0\" >Cessna 208 Caravan</td>\n",
       "                        <td id=\"T_a2a62da4_cb50_11ea_ab9c_02420a391a7drow6_col1\" class=\"data row6 col1\" >4557</td>\n",
       "            </tr>\n",
       "            <tr>\n",
       "                        <th id=\"T_a2a62da4_cb50_11ea_ab9c_02420a391a7dlevel0_row7\" class=\"row_heading level0 row7\" >7</th>\n",
       "                        <td id=\"T_a2a62da4_cb50_11ea_ab9c_02420a391a7drow7_col0\" class=\"data row7 col0\" >Sukhoi SuperJet-100</td>\n",
       "                        <td id=\"T_a2a62da4_cb50_11ea_ab9c_02420a391a7drow7_col1\" class=\"data row7 col1\" >4185</td>\n",
       "            </tr>\n",
       "    </tbody></table>"
      ],
      "text/plain": [
       "<pandas.io.formats.style.Styler at 0x7f5a96fc5850>"
      ]
     },
     "execution_count": 4,
     "metadata": {},
     "output_type": "execute_result"
    }
   ],
   "source": [
    "(model_flights\n",
    "             .style.set_caption('Данные по количеству совершенных полетов по каждой модели самолета')\n",
    ")"
   ]
  },
  {
   "cell_type": "code",
   "execution_count": 5,
   "metadata": {},
   "outputs": [
    {
     "name": "stdout",
     "output_type": "stream",
     "text": [
      "<class 'pandas.core.frame.DataFrame'>\n",
      "RangeIndex: 8 entries, 0 to 7\n",
      "Data columns (total 2 columns):\n",
      "model             8 non-null object\n",
      "flights_amount    8 non-null int64\n",
      "dtypes: int64(1), object(1)\n",
      "memory usage: 256.0+ bytes\n"
     ]
    }
   ],
   "source": [
    "model_flights.info()"
   ]
  },
  {
   "cell_type": "markdown",
   "metadata": {},
   "source": [
    "**Типы данных корректны.**\n",
    "\n",
    "*Пропуски в данных отсутствуют.\n",
    "В столбце model данные имеют подходящий нам текстовый формат (object), значения в столбце flights_amount целочисленные - то, что нужно.*"
   ]
  },
  {
   "cell_type": "markdown",
   "metadata": {},
   "source": [
    "**1.1.Bar-plot по количеству совершенных полетов по каждой модели самолета.**"
   ]
  },
  {
   "cell_type": "code",
   "execution_count": 6,
   "metadata": {},
   "outputs": [
    {
     "data": {
      "text/html": [
       "<style  type=\"text/css\" >\n",
       "    #T_a2ac7704_cb50_11ea_ab9c_02420a391a7drow0_col1 {\n",
       "            width:  10em;\n",
       "             height:  80%;\n",
       "            background:  linear-gradient(90deg,#97F0AA 100.0%, transparent 100.0%);\n",
       "        }    #T_a2ac7704_cb50_11ea_ab9c_02420a391a7drow1_col1 {\n",
       "            width:  10em;\n",
       "             height:  80%;\n",
       "            background:  linear-gradient(90deg,#97F0AA 97.6%, transparent 97.6%);\n",
       "        }    #T_a2ac7704_cb50_11ea_ab9c_02420a391a7drow2_col1 {\n",
       "            width:  10em;\n",
       "             height:  80%;\n",
       "            background:  linear-gradient(90deg,#97F0AA 91.8%, transparent 91.8%);\n",
       "        }    #T_a2ac7704_cb50_11ea_ab9c_02420a391a7drow3_col1 {\n",
       "            width:  10em;\n",
       "             height:  80%;\n",
       "            background:  linear-gradient(90deg,#97F0AA 21.1%, transparent 21.1%);\n",
       "        }    #T_a2ac7704_cb50_11ea_ab9c_02420a391a7drow4_col1 {\n",
       "            width:  10em;\n",
       "             height:  80%;\n",
       "            background:  linear-gradient(90deg,#97F0AA 13.8%, transparent 13.8%);\n",
       "        }    #T_a2ac7704_cb50_11ea_ab9c_02420a391a7drow5_col1 {\n",
       "            width:  10em;\n",
       "             height:  80%;\n",
       "            background:  linear-gradient(90deg,#97F0AA 13.3%, transparent 13.3%);\n",
       "        }    #T_a2ac7704_cb50_11ea_ab9c_02420a391a7drow6_col1 {\n",
       "            width:  10em;\n",
       "             height:  80%;\n",
       "            background:  linear-gradient(90deg,#97F0AA 13.2%, transparent 13.2%);\n",
       "        }    #T_a2ac7704_cb50_11ea_ab9c_02420a391a7drow7_col1 {\n",
       "            width:  10em;\n",
       "             height:  80%;\n",
       "            background:  linear-gradient(90deg,#97F0AA 6.6%, transparent 6.6%);\n",
       "        }</style><table id=\"T_a2ac7704_cb50_11ea_ab9c_02420a391a7d\" ><caption>Данные по количеству совершенных полетов по каждой модели самолета</caption><thead>    <tr>        <th class=\"blank level0\" ></th>        <th class=\"col_heading level0 col0\" >model</th>        <th class=\"col_heading level0 col1\" >flights_amount</th>    </tr></thead><tbody>\n",
       "                <tr>\n",
       "                        <th id=\"T_a2ac7704_cb50_11ea_ab9c_02420a391a7dlevel0_row0\" class=\"row_heading level0 row0\" >0</th>\n",
       "                        <td id=\"T_a2ac7704_cb50_11ea_ab9c_02420a391a7drow0_col0\" class=\"data row0 col0\" >Cessna 208 Caravan</td>\n",
       "                        <td id=\"T_a2ac7704_cb50_11ea_ab9c_02420a391a7drow0_col1\" class=\"data row0 col1\" >4557</td>\n",
       "            </tr>\n",
       "            <tr>\n",
       "                        <th id=\"T_a2ac7704_cb50_11ea_ab9c_02420a391a7dlevel0_row1\" class=\"row_heading level0 row1\" >1</th>\n",
       "                        <td id=\"T_a2ac7704_cb50_11ea_ab9c_02420a391a7drow1_col0\" class=\"data row1 col0\" >Bombardier CRJ-200</td>\n",
       "                        <td id=\"T_a2ac7704_cb50_11ea_ab9c_02420a391a7drow1_col1\" class=\"data row1 col1\" >4446</td>\n",
       "            </tr>\n",
       "            <tr>\n",
       "                        <th id=\"T_a2ac7704_cb50_11ea_ab9c_02420a391a7dlevel0_row2\" class=\"row_heading level0 row2\" >2</th>\n",
       "                        <td id=\"T_a2ac7704_cb50_11ea_ab9c_02420a391a7drow2_col0\" class=\"data row2 col0\" >Sukhoi SuperJet-100</td>\n",
       "                        <td id=\"T_a2ac7704_cb50_11ea_ab9c_02420a391a7drow2_col1\" class=\"data row2 col1\" >4185</td>\n",
       "            </tr>\n",
       "            <tr>\n",
       "                        <th id=\"T_a2ac7704_cb50_11ea_ab9c_02420a391a7dlevel0_row3\" class=\"row_heading level0 row3\" >3</th>\n",
       "                        <td id=\"T_a2ac7704_cb50_11ea_ab9c_02420a391a7drow3_col0\" class=\"data row3 col0\" >Airbus A321-200</td>\n",
       "                        <td id=\"T_a2ac7704_cb50_11ea_ab9c_02420a391a7drow3_col1\" class=\"data row3 col1\" >960</td>\n",
       "            </tr>\n",
       "            <tr>\n",
       "                        <th id=\"T_a2ac7704_cb50_11ea_ab9c_02420a391a7dlevel0_row4\" class=\"row_heading level0 row4\" >4</th>\n",
       "                        <td id=\"T_a2ac7704_cb50_11ea_ab9c_02420a391a7drow4_col0\" class=\"data row4 col0\" >Boeing 737-300</td>\n",
       "                        <td id=\"T_a2ac7704_cb50_11ea_ab9c_02420a391a7drow4_col1\" class=\"data row4 col1\" >630</td>\n",
       "            </tr>\n",
       "            <tr>\n",
       "                        <th id=\"T_a2ac7704_cb50_11ea_ab9c_02420a391a7dlevel0_row5\" class=\"row_heading level0 row5\" >5</th>\n",
       "                        <td id=\"T_a2ac7704_cb50_11ea_ab9c_02420a391a7drow5_col0\" class=\"data row5 col0\" >Airbus A319-100</td>\n",
       "                        <td id=\"T_a2ac7704_cb50_11ea_ab9c_02420a391a7drow5_col1\" class=\"data row5 col1\" >607</td>\n",
       "            </tr>\n",
       "            <tr>\n",
       "                        <th id=\"T_a2ac7704_cb50_11ea_ab9c_02420a391a7dlevel0_row6\" class=\"row_heading level0 row6\" >6</th>\n",
       "                        <td id=\"T_a2ac7704_cb50_11ea_ab9c_02420a391a7drow6_col0\" class=\"data row6 col0\" >Boeing 767-300</td>\n",
       "                        <td id=\"T_a2ac7704_cb50_11ea_ab9c_02420a391a7drow6_col1\" class=\"data row6 col1\" >600</td>\n",
       "            </tr>\n",
       "            <tr>\n",
       "                        <th id=\"T_a2ac7704_cb50_11ea_ab9c_02420a391a7dlevel0_row7\" class=\"row_heading level0 row7\" >7</th>\n",
       "                        <td id=\"T_a2ac7704_cb50_11ea_ab9c_02420a391a7drow7_col0\" class=\"data row7 col0\" >Boeing 777-300</td>\n",
       "                        <td id=\"T_a2ac7704_cb50_11ea_ab9c_02420a391a7drow7_col1\" class=\"data row7 col1\" >300</td>\n",
       "            </tr>\n",
       "    </tbody></table>"
      ],
      "text/plain": [
       "<pandas.io.formats.style.Styler at 0x7f5aa68d1650>"
      ]
     },
     "execution_count": 6,
     "metadata": {},
     "output_type": "execute_result"
    }
   ],
   "source": [
    "(model_flights.sort_values(by='flights_amount', ascending=False).reset_index(drop=True).style\n",
    "                                        .bar(subset=['flights_amount'], color='#97F0AA', vmin=0, width=100)\n",
    "                                        .set_caption('Данные по количеству совершенных полетов по каждой модели самолета')\n",
    ")"
   ]
  },
  {
   "cell_type": "code",
   "execution_count": 7,
   "metadata": {},
   "outputs": [
    {
     "name": "stdout",
     "output_type": "stream",
     "text": [
      "Defaulting to user installation because normal site-packages is not writeable\n",
      "Requirement already satisfied: bokeh in /home/jovyan/.local/lib/python3.7/site-packages (2.1.1)\n",
      "Requirement already satisfied: pillow>=4.0 in /opt/conda/lib/python3.7/site-packages (from bokeh) (7.0.0)\n",
      "Requirement already satisfied: python-dateutil>=2.1 in /opt/conda/lib/python3.7/site-packages (from bokeh) (2.8.1)\n",
      "Requirement already satisfied: numpy>=1.11.3 in /opt/conda/lib/python3.7/site-packages (from bokeh) (1.19.0)\n",
      "Requirement already satisfied: tornado>=5.1 in /opt/conda/lib/python3.7/site-packages (from bokeh) (6.0.4)\n",
      "Requirement already satisfied: PyYAML>=3.10 in /home/jovyan/.local/lib/python3.7/site-packages (from bokeh) (5.3.1)\n",
      "Requirement already satisfied: packaging>=16.8 in /opt/conda/lib/python3.7/site-packages (from bokeh) (20.4)\n",
      "Requirement already satisfied: typing-extensions>=3.7.4 in /home/jovyan/.local/lib/python3.7/site-packages (from bokeh) (3.7.4.2)\n",
      "Requirement already satisfied: Jinja2>=2.7 in /opt/conda/lib/python3.7/site-packages (from bokeh) (2.11.2)\n",
      "Requirement already satisfied: six>=1.5 in /opt/conda/lib/python3.7/site-packages (from python-dateutil>=2.1->bokeh) (1.15.0)\n",
      "Requirement already satisfied: pyparsing>=2.0.2 in /opt/conda/lib/python3.7/site-packages (from packaging>=16.8->bokeh) (2.4.7)\n",
      "Requirement already satisfied: MarkupSafe>=0.23 in /opt/conda/lib/python3.7/site-packages (from Jinja2>=2.7->bokeh) (1.1.1)\n"
     ]
    }
   ],
   "source": [
    "!pip install bokeh"
   ]
  },
  {
   "cell_type": "code",
   "execution_count": 8,
   "metadata": {},
   "outputs": [],
   "source": [
    "from bokeh.io import show, output_file, output_notebook\n",
    "from bokeh.plotting import figure, ColumnDataSource\n",
    "from bokeh.models import HoverTool"
   ]
  },
  {
   "cell_type": "code",
   "execution_count": 9,
   "metadata": {},
   "outputs": [
    {
     "data": {
      "text/html": [
       "\n",
       "    <div class=\"bk-root\">\n",
       "        <a href=\"https://bokeh.org\" target=\"_blank\" class=\"bk-logo bk-logo-small bk-logo-notebook\"></a>\n",
       "        <span id=\"1001\">Loading BokehJS ...</span>\n",
       "    </div>"
      ]
     },
     "metadata": {},
     "output_type": "display_data"
    },
    {
     "data": {
      "application/javascript": [
       "\n",
       "(function(root) {\n",
       "  function now() {\n",
       "    return new Date();\n",
       "  }\n",
       "\n",
       "  var force = true;\n",
       "\n",
       "  if (typeof root._bokeh_onload_callbacks === \"undefined\" || force === true) {\n",
       "    root._bokeh_onload_callbacks = [];\n",
       "    root._bokeh_is_loading = undefined;\n",
       "  }\n",
       "\n",
       "  var JS_MIME_TYPE = 'application/javascript';\n",
       "  var HTML_MIME_TYPE = 'text/html';\n",
       "  var EXEC_MIME_TYPE = 'application/vnd.bokehjs_exec.v0+json';\n",
       "  var CLASS_NAME = 'output_bokeh rendered_html';\n",
       "\n",
       "  /**\n",
       "   * Render data to the DOM node\n",
       "   */\n",
       "  function render(props, node) {\n",
       "    var script = document.createElement(\"script\");\n",
       "    node.appendChild(script);\n",
       "  }\n",
       "\n",
       "  /**\n",
       "   * Handle when an output is cleared or removed\n",
       "   */\n",
       "  function handleClearOutput(event, handle) {\n",
       "    var cell = handle.cell;\n",
       "\n",
       "    var id = cell.output_area._bokeh_element_id;\n",
       "    var server_id = cell.output_area._bokeh_server_id;\n",
       "    // Clean up Bokeh references\n",
       "    if (id != null && id in Bokeh.index) {\n",
       "      Bokeh.index[id].model.document.clear();\n",
       "      delete Bokeh.index[id];\n",
       "    }\n",
       "\n",
       "    if (server_id !== undefined) {\n",
       "      // Clean up Bokeh references\n",
       "      var cmd = \"from bokeh.io.state import curstate; print(curstate().uuid_to_server['\" + server_id + \"'].get_sessions()[0].document.roots[0]._id)\";\n",
       "      cell.notebook.kernel.execute(cmd, {\n",
       "        iopub: {\n",
       "          output: function(msg) {\n",
       "            var id = msg.content.text.trim();\n",
       "            if (id in Bokeh.index) {\n",
       "              Bokeh.index[id].model.document.clear();\n",
       "              delete Bokeh.index[id];\n",
       "            }\n",
       "          }\n",
       "        }\n",
       "      });\n",
       "      // Destroy server and session\n",
       "      var cmd = \"import bokeh.io.notebook as ion; ion.destroy_server('\" + server_id + \"')\";\n",
       "      cell.notebook.kernel.execute(cmd);\n",
       "    }\n",
       "  }\n",
       "\n",
       "  /**\n",
       "   * Handle when a new output is added\n",
       "   */\n",
       "  function handleAddOutput(event, handle) {\n",
       "    var output_area = handle.output_area;\n",
       "    var output = handle.output;\n",
       "\n",
       "    // limit handleAddOutput to display_data with EXEC_MIME_TYPE content only\n",
       "    if ((output.output_type != \"display_data\") || (!output.data.hasOwnProperty(EXEC_MIME_TYPE))) {\n",
       "      return\n",
       "    }\n",
       "\n",
       "    var toinsert = output_area.element.find(\".\" + CLASS_NAME.split(' ')[0]);\n",
       "\n",
       "    if (output.metadata[EXEC_MIME_TYPE][\"id\"] !== undefined) {\n",
       "      toinsert[toinsert.length - 1].firstChild.textContent = output.data[JS_MIME_TYPE];\n",
       "      // store reference to embed id on output_area\n",
       "      output_area._bokeh_element_id = output.metadata[EXEC_MIME_TYPE][\"id\"];\n",
       "    }\n",
       "    if (output.metadata[EXEC_MIME_TYPE][\"server_id\"] !== undefined) {\n",
       "      var bk_div = document.createElement(\"div\");\n",
       "      bk_div.innerHTML = output.data[HTML_MIME_TYPE];\n",
       "      var script_attrs = bk_div.children[0].attributes;\n",
       "      for (var i = 0; i < script_attrs.length; i++) {\n",
       "        toinsert[toinsert.length - 1].firstChild.setAttribute(script_attrs[i].name, script_attrs[i].value);\n",
       "        toinsert[toinsert.length - 1].firstChild.textContent = bk_div.children[0].textContent\n",
       "      }\n",
       "      // store reference to server id on output_area\n",
       "      output_area._bokeh_server_id = output.metadata[EXEC_MIME_TYPE][\"server_id\"];\n",
       "    }\n",
       "  }\n",
       "\n",
       "  function register_renderer(events, OutputArea) {\n",
       "\n",
       "    function append_mime(data, metadata, element) {\n",
       "      // create a DOM node to render to\n",
       "      var toinsert = this.create_output_subarea(\n",
       "        metadata,\n",
       "        CLASS_NAME,\n",
       "        EXEC_MIME_TYPE\n",
       "      );\n",
       "      this.keyboard_manager.register_events(toinsert);\n",
       "      // Render to node\n",
       "      var props = {data: data, metadata: metadata[EXEC_MIME_TYPE]};\n",
       "      render(props, toinsert[toinsert.length - 1]);\n",
       "      element.append(toinsert);\n",
       "      return toinsert\n",
       "    }\n",
       "\n",
       "    /* Handle when an output is cleared or removed */\n",
       "    events.on('clear_output.CodeCell', handleClearOutput);\n",
       "    events.on('delete.Cell', handleClearOutput);\n",
       "\n",
       "    /* Handle when a new output is added */\n",
       "    events.on('output_added.OutputArea', handleAddOutput);\n",
       "\n",
       "    /**\n",
       "     * Register the mime type and append_mime function with output_area\n",
       "     */\n",
       "    OutputArea.prototype.register_mime_type(EXEC_MIME_TYPE, append_mime, {\n",
       "      /* Is output safe? */\n",
       "      safe: true,\n",
       "      /* Index of renderer in `output_area.display_order` */\n",
       "      index: 0\n",
       "    });\n",
       "  }\n",
       "\n",
       "  // register the mime type if in Jupyter Notebook environment and previously unregistered\n",
       "  if (root.Jupyter !== undefined) {\n",
       "    var events = require('base/js/events');\n",
       "    var OutputArea = require('notebook/js/outputarea').OutputArea;\n",
       "\n",
       "    if (OutputArea.prototype.mime_types().indexOf(EXEC_MIME_TYPE) == -1) {\n",
       "      register_renderer(events, OutputArea);\n",
       "    }\n",
       "  }\n",
       "\n",
       "  \n",
       "  if (typeof (root._bokeh_timeout) === \"undefined\" || force === true) {\n",
       "    root._bokeh_timeout = Date.now() + 5000;\n",
       "    root._bokeh_failed_load = false;\n",
       "  }\n",
       "\n",
       "  var NB_LOAD_WARNING = {'data': {'text/html':\n",
       "     \"<div style='background-color: #fdd'>\\n\"+\n",
       "     \"<p>\\n\"+\n",
       "     \"BokehJS does not appear to have successfully loaded. If loading BokehJS from CDN, this \\n\"+\n",
       "     \"may be due to a slow or bad network connection. Possible fixes:\\n\"+\n",
       "     \"</p>\\n\"+\n",
       "     \"<ul>\\n\"+\n",
       "     \"<li>re-rerun `output_notebook()` to attempt to load from CDN again, or</li>\\n\"+\n",
       "     \"<li>use INLINE resources instead, as so:</li>\\n\"+\n",
       "     \"</ul>\\n\"+\n",
       "     \"<code>\\n\"+\n",
       "     \"from bokeh.resources import INLINE\\n\"+\n",
       "     \"output_notebook(resources=INLINE)\\n\"+\n",
       "     \"</code>\\n\"+\n",
       "     \"</div>\"}};\n",
       "\n",
       "  function display_loaded() {\n",
       "    var el = document.getElementById(\"1001\");\n",
       "    if (el != null) {\n",
       "      el.textContent = \"BokehJS is loading...\";\n",
       "    }\n",
       "    if (root.Bokeh !== undefined) {\n",
       "      if (el != null) {\n",
       "        el.textContent = \"BokehJS \" + root.Bokeh.version + \" successfully loaded.\";\n",
       "      }\n",
       "    } else if (Date.now() < root._bokeh_timeout) {\n",
       "      setTimeout(display_loaded, 100)\n",
       "    }\n",
       "  }\n",
       "\n",
       "\n",
       "  function run_callbacks() {\n",
       "    try {\n",
       "      root._bokeh_onload_callbacks.forEach(function(callback) {\n",
       "        if (callback != null)\n",
       "          callback();\n",
       "      });\n",
       "    } finally {\n",
       "      delete root._bokeh_onload_callbacks\n",
       "    }\n",
       "    console.debug(\"Bokeh: all callbacks have finished\");\n",
       "  }\n",
       "\n",
       "  function load_libs(css_urls, js_urls, callback) {\n",
       "    if (css_urls == null) css_urls = [];\n",
       "    if (js_urls == null) js_urls = [];\n",
       "\n",
       "    root._bokeh_onload_callbacks.push(callback);\n",
       "    if (root._bokeh_is_loading > 0) {\n",
       "      console.debug(\"Bokeh: BokehJS is being loaded, scheduling callback at\", now());\n",
       "      return null;\n",
       "    }\n",
       "    if (js_urls == null || js_urls.length === 0) {\n",
       "      run_callbacks();\n",
       "      return null;\n",
       "    }\n",
       "    console.debug(\"Bokeh: BokehJS not loaded, scheduling load and callback at\", now());\n",
       "    root._bokeh_is_loading = css_urls.length + js_urls.length;\n",
       "\n",
       "    function on_load() {\n",
       "      root._bokeh_is_loading--;\n",
       "      if (root._bokeh_is_loading === 0) {\n",
       "        console.debug(\"Bokeh: all BokehJS libraries/stylesheets loaded\");\n",
       "        run_callbacks()\n",
       "      }\n",
       "    }\n",
       "\n",
       "    function on_error() {\n",
       "      console.error(\"failed to load \" + url);\n",
       "    }\n",
       "\n",
       "    for (var i = 0; i < css_urls.length; i++) {\n",
       "      var url = css_urls[i];\n",
       "      const element = document.createElement(\"link\");\n",
       "      element.onload = on_load;\n",
       "      element.onerror = on_error;\n",
       "      element.rel = \"stylesheet\";\n",
       "      element.type = \"text/css\";\n",
       "      element.href = url;\n",
       "      console.debug(\"Bokeh: injecting link tag for BokehJS stylesheet: \", url);\n",
       "      document.body.appendChild(element);\n",
       "    }\n",
       "\n",
       "    const hashes = {\"https://cdn.bokeh.org/bokeh/release/bokeh-2.1.1.min.js\": \"kLr4fYcqcSpbuI95brIH3vnnYCquzzSxHPU6XGQCIkQRGJwhg0StNbj1eegrHs12\", \"https://cdn.bokeh.org/bokeh/release/bokeh-widgets-2.1.1.min.js\": \"xIGPmVtaOm+z0BqfSOMn4lOR6ciex448GIKG4eE61LsAvmGj48XcMQZtKcE/UXZe\", \"https://cdn.bokeh.org/bokeh/release/bokeh-tables-2.1.1.min.js\": \"Dc9u1wF/0zApGIWoBbH77iWEHtdmkuYWG839Uzmv8y8yBLXebjO9ZnERsde5Ln/P\", \"https://cdn.bokeh.org/bokeh/release/bokeh-gl-2.1.1.min.js\": \"cT9JaBz7GiRXdENrJLZNSC6eMNF3nh3fa5fTF51Svp+ukxPdwcU5kGXGPBgDCa2j\"};\n",
       "\n",
       "    for (var i = 0; i < js_urls.length; i++) {\n",
       "      var url = js_urls[i];\n",
       "      var element = document.createElement('script');\n",
       "      element.onload = on_load;\n",
       "      element.onerror = on_error;\n",
       "      element.async = false;\n",
       "      element.src = url;\n",
       "      if (url in hashes) {\n",
       "        element.crossOrigin = \"anonymous\";\n",
       "        element.integrity = \"sha384-\" + hashes[url];\n",
       "      }\n",
       "      console.debug(\"Bokeh: injecting script tag for BokehJS library: \", url);\n",
       "      document.head.appendChild(element);\n",
       "    }\n",
       "  };\n",
       "\n",
       "  function inject_raw_css(css) {\n",
       "    const element = document.createElement(\"style\");\n",
       "    element.appendChild(document.createTextNode(css));\n",
       "    document.body.appendChild(element);\n",
       "  }\n",
       "\n",
       "  \n",
       "  var js_urls = [\"https://cdn.bokeh.org/bokeh/release/bokeh-2.1.1.min.js\", \"https://cdn.bokeh.org/bokeh/release/bokeh-widgets-2.1.1.min.js\", \"https://cdn.bokeh.org/bokeh/release/bokeh-tables-2.1.1.min.js\", \"https://cdn.bokeh.org/bokeh/release/bokeh-gl-2.1.1.min.js\"];\n",
       "  var css_urls = [];\n",
       "  \n",
       "\n",
       "  var inline_js = [\n",
       "    function(Bokeh) {\n",
       "      Bokeh.set_log_level(\"info\");\n",
       "    },\n",
       "    function(Bokeh) {\n",
       "    \n",
       "    \n",
       "    }\n",
       "  ];\n",
       "\n",
       "  function run_inline_js() {\n",
       "    \n",
       "    if (root.Bokeh !== undefined || force === true) {\n",
       "      \n",
       "    for (var i = 0; i < inline_js.length; i++) {\n",
       "      inline_js[i].call(root, root.Bokeh);\n",
       "    }\n",
       "    if (force === true) {\n",
       "        display_loaded();\n",
       "      }} else if (Date.now() < root._bokeh_timeout) {\n",
       "      setTimeout(run_inline_js, 100);\n",
       "    } else if (!root._bokeh_failed_load) {\n",
       "      console.log(\"Bokeh: BokehJS failed to load within specified timeout.\");\n",
       "      root._bokeh_failed_load = true;\n",
       "    } else if (force !== true) {\n",
       "      var cell = $(document.getElementById(\"1001\")).parents('.cell').data().cell;\n",
       "      cell.output_area.append_execute_result(NB_LOAD_WARNING)\n",
       "    }\n",
       "\n",
       "  }\n",
       "\n",
       "  if (root._bokeh_is_loading === 0) {\n",
       "    console.debug(\"Bokeh: BokehJS loaded, going straight to plotting\");\n",
       "    run_inline_js();\n",
       "  } else {\n",
       "    load_libs(css_urls, js_urls, function() {\n",
       "      console.debug(\"Bokeh: BokehJS plotting callback run at\", now());\n",
       "      run_inline_js();\n",
       "    });\n",
       "  }\n",
       "}(window));"
      ],
      "application/vnd.bokehjs_load.v0+json": "\n(function(root) {\n  function now() {\n    return new Date();\n  }\n\n  var force = true;\n\n  if (typeof root._bokeh_onload_callbacks === \"undefined\" || force === true) {\n    root._bokeh_onload_callbacks = [];\n    root._bokeh_is_loading = undefined;\n  }\n\n  \n\n  \n  if (typeof (root._bokeh_timeout) === \"undefined\" || force === true) {\n    root._bokeh_timeout = Date.now() + 5000;\n    root._bokeh_failed_load = false;\n  }\n\n  var NB_LOAD_WARNING = {'data': {'text/html':\n     \"<div style='background-color: #fdd'>\\n\"+\n     \"<p>\\n\"+\n     \"BokehJS does not appear to have successfully loaded. If loading BokehJS from CDN, this \\n\"+\n     \"may be due to a slow or bad network connection. Possible fixes:\\n\"+\n     \"</p>\\n\"+\n     \"<ul>\\n\"+\n     \"<li>re-rerun `output_notebook()` to attempt to load from CDN again, or</li>\\n\"+\n     \"<li>use INLINE resources instead, as so:</li>\\n\"+\n     \"</ul>\\n\"+\n     \"<code>\\n\"+\n     \"from bokeh.resources import INLINE\\n\"+\n     \"output_notebook(resources=INLINE)\\n\"+\n     \"</code>\\n\"+\n     \"</div>\"}};\n\n  function display_loaded() {\n    var el = document.getElementById(\"1001\");\n    if (el != null) {\n      el.textContent = \"BokehJS is loading...\";\n    }\n    if (root.Bokeh !== undefined) {\n      if (el != null) {\n        el.textContent = \"BokehJS \" + root.Bokeh.version + \" successfully loaded.\";\n      }\n    } else if (Date.now() < root._bokeh_timeout) {\n      setTimeout(display_loaded, 100)\n    }\n  }\n\n\n  function run_callbacks() {\n    try {\n      root._bokeh_onload_callbacks.forEach(function(callback) {\n        if (callback != null)\n          callback();\n      });\n    } finally {\n      delete root._bokeh_onload_callbacks\n    }\n    console.debug(\"Bokeh: all callbacks have finished\");\n  }\n\n  function load_libs(css_urls, js_urls, callback) {\n    if (css_urls == null) css_urls = [];\n    if (js_urls == null) js_urls = [];\n\n    root._bokeh_onload_callbacks.push(callback);\n    if (root._bokeh_is_loading > 0) {\n      console.debug(\"Bokeh: BokehJS is being loaded, scheduling callback at\", now());\n      return null;\n    }\n    if (js_urls == null || js_urls.length === 0) {\n      run_callbacks();\n      return null;\n    }\n    console.debug(\"Bokeh: BokehJS not loaded, scheduling load and callback at\", now());\n    root._bokeh_is_loading = css_urls.length + js_urls.length;\n\n    function on_load() {\n      root._bokeh_is_loading--;\n      if (root._bokeh_is_loading === 0) {\n        console.debug(\"Bokeh: all BokehJS libraries/stylesheets loaded\");\n        run_callbacks()\n      }\n    }\n\n    function on_error() {\n      console.error(\"failed to load \" + url);\n    }\n\n    for (var i = 0; i < css_urls.length; i++) {\n      var url = css_urls[i];\n      const element = document.createElement(\"link\");\n      element.onload = on_load;\n      element.onerror = on_error;\n      element.rel = \"stylesheet\";\n      element.type = \"text/css\";\n      element.href = url;\n      console.debug(\"Bokeh: injecting link tag for BokehJS stylesheet: \", url);\n      document.body.appendChild(element);\n    }\n\n    const hashes = {\"https://cdn.bokeh.org/bokeh/release/bokeh-2.1.1.min.js\": \"kLr4fYcqcSpbuI95brIH3vnnYCquzzSxHPU6XGQCIkQRGJwhg0StNbj1eegrHs12\", \"https://cdn.bokeh.org/bokeh/release/bokeh-widgets-2.1.1.min.js\": \"xIGPmVtaOm+z0BqfSOMn4lOR6ciex448GIKG4eE61LsAvmGj48XcMQZtKcE/UXZe\", \"https://cdn.bokeh.org/bokeh/release/bokeh-tables-2.1.1.min.js\": \"Dc9u1wF/0zApGIWoBbH77iWEHtdmkuYWG839Uzmv8y8yBLXebjO9ZnERsde5Ln/P\", \"https://cdn.bokeh.org/bokeh/release/bokeh-gl-2.1.1.min.js\": \"cT9JaBz7GiRXdENrJLZNSC6eMNF3nh3fa5fTF51Svp+ukxPdwcU5kGXGPBgDCa2j\"};\n\n    for (var i = 0; i < js_urls.length; i++) {\n      var url = js_urls[i];\n      var element = document.createElement('script');\n      element.onload = on_load;\n      element.onerror = on_error;\n      element.async = false;\n      element.src = url;\n      if (url in hashes) {\n        element.crossOrigin = \"anonymous\";\n        element.integrity = \"sha384-\" + hashes[url];\n      }\n      console.debug(\"Bokeh: injecting script tag for BokehJS library: \", url);\n      document.head.appendChild(element);\n    }\n  };\n\n  function inject_raw_css(css) {\n    const element = document.createElement(\"style\");\n    element.appendChild(document.createTextNode(css));\n    document.body.appendChild(element);\n  }\n\n  \n  var js_urls = [\"https://cdn.bokeh.org/bokeh/release/bokeh-2.1.1.min.js\", \"https://cdn.bokeh.org/bokeh/release/bokeh-widgets-2.1.1.min.js\", \"https://cdn.bokeh.org/bokeh/release/bokeh-tables-2.1.1.min.js\", \"https://cdn.bokeh.org/bokeh/release/bokeh-gl-2.1.1.min.js\"];\n  var css_urls = [];\n  \n\n  var inline_js = [\n    function(Bokeh) {\n      Bokeh.set_log_level(\"info\");\n    },\n    function(Bokeh) {\n    \n    \n    }\n  ];\n\n  function run_inline_js() {\n    \n    if (root.Bokeh !== undefined || force === true) {\n      \n    for (var i = 0; i < inline_js.length; i++) {\n      inline_js[i].call(root, root.Bokeh);\n    }\n    if (force === true) {\n        display_loaded();\n      }} else if (Date.now() < root._bokeh_timeout) {\n      setTimeout(run_inline_js, 100);\n    } else if (!root._bokeh_failed_load) {\n      console.log(\"Bokeh: BokehJS failed to load within specified timeout.\");\n      root._bokeh_failed_load = true;\n    } else if (force !== true) {\n      var cell = $(document.getElementById(\"1001\")).parents('.cell').data().cell;\n      cell.output_area.append_execute_result(NB_LOAD_WARNING)\n    }\n\n  }\n\n  if (root._bokeh_is_loading === 0) {\n    console.debug(\"Bokeh: BokehJS loaded, going straight to plotting\");\n    run_inline_js();\n  } else {\n    load_libs(css_urls, js_urls, function() {\n      console.debug(\"Bokeh: BokehJS plotting callback run at\", now());\n      run_inline_js();\n    });\n  }\n}(window));"
     },
     "metadata": {},
     "output_type": "display_data"
    }
   ],
   "source": [
    "output_notebook()"
   ]
  },
  {
   "cell_type": "code",
   "execution_count": 10,
   "metadata": {},
   "outputs": [
    {
     "name": "stdout",
     "output_type": "stream",
     "text": [
      "Defaulting to user installation because normal site-packages is not writeable\n",
      "Requirement already satisfied: seaborn in /opt/conda/lib/python3.7/site-packages (0.9.0)\n",
      "Requirement already satisfied: matplotlib>=1.4.3 in /opt/conda/lib/python3.7/site-packages (from seaborn) (3.1.0)\n",
      "Requirement already satisfied: pandas>=0.15.2 in /opt/conda/lib/python3.7/site-packages (from seaborn) (0.25.1)\n",
      "Requirement already satisfied: scipy>=0.14.0 in /opt/conda/lib/python3.7/site-packages (from seaborn) (1.4.1)\n",
      "Requirement already satisfied: numpy>=1.9.3 in /opt/conda/lib/python3.7/site-packages (from seaborn) (1.19.0)\n",
      "Requirement already satisfied: cycler>=0.10 in /opt/conda/lib/python3.7/site-packages (from matplotlib>=1.4.3->seaborn) (0.10.0)\n",
      "Requirement already satisfied: pyparsing!=2.0.4,!=2.1.2,!=2.1.6,>=2.0.1 in /opt/conda/lib/python3.7/site-packages (from matplotlib>=1.4.3->seaborn) (2.4.7)\n",
      "Requirement already satisfied: python-dateutil>=2.1 in /opt/conda/lib/python3.7/site-packages (from matplotlib>=1.4.3->seaborn) (2.8.1)\n",
      "Requirement already satisfied: kiwisolver>=1.0.1 in /opt/conda/lib/python3.7/site-packages (from matplotlib>=1.4.3->seaborn) (1.2.0)\n",
      "Requirement already satisfied: pytz>=2017.2 in /opt/conda/lib/python3.7/site-packages (from pandas>=0.15.2->seaborn) (2020.1)\n",
      "Requirement already satisfied: six in /opt/conda/lib/python3.7/site-packages (from cycler>=0.10->matplotlib>=1.4.3->seaborn) (1.15.0)\n"
     ]
    }
   ],
   "source": [
    "!pip install seaborn"
   ]
  },
  {
   "cell_type": "code",
   "execution_count": 11,
   "metadata": {},
   "outputs": [
    {
     "data": {
      "text/html": [
       "\n",
       "\n",
       "\n",
       "\n",
       "\n",
       "\n",
       "  <div class=\"bk-root\" id=\"02aa3de6-dcf1-4b43-b89f-1dd627810e9d\" data-root-id=\"1002\"></div>\n"
      ]
     },
     "metadata": {},
     "output_type": "display_data"
    },
    {
     "data": {
      "application/javascript": [
       "(function(root) {\n",
       "  function embed_document(root) {\n",
       "    \n",
       "  var docs_json = {\"8935438c-287d-4c6a-b73f-7fe0359933f7\":{\"roots\":{\"references\":[{\"attributes\":{\"below\":[{\"id\":\"1013\"}],\"center\":[{\"id\":\"1015\"},{\"id\":\"1019\"}],\"left\":[{\"id\":\"1016\"}],\"plot_height\":350,\"renderers\":[{\"id\":\"1027\"}],\"title\":{\"id\":\"1003\"},\"toolbar\":{\"id\":\"1021\"},\"x_range\":{\"id\":\"1005\"},\"x_scale\":{\"id\":\"1009\"},\"y_range\":{\"id\":\"1007\"},\"y_scale\":{\"id\":\"1011\"}},\"id\":\"1002\",\"subtype\":\"Figure\",\"type\":\"Plot\"},{\"attributes\":{},\"id\":\"1036\",\"type\":\"Selection\"},{\"attributes\":{},\"id\":\"1007\",\"type\":\"DataRange1d\"},{\"attributes\":{\"active_drag\":\"auto\",\"active_inspect\":\"auto\",\"active_multi\":null,\"active_scroll\":\"auto\",\"active_tap\":\"auto\",\"tools\":[{\"id\":\"1020\"},{\"id\":\"1029\"}]},\"id\":\"1021\",\"type\":\"Toolbar\"},{\"attributes\":{\"callback\":null,\"tooltips\":[[\"\\u041c\\u043e\\u0434\\u0435\\u043b\\u044c \\u0441\\u0430\\u043c\\u043e\\u043b\\u0435\\u0442\\u0430\",\"@model\"],[\"\\u041a\\u043e\\u043b-\\u0432\\u043e \\u0432\\u044b\\u043b\\u0435\\u0442\\u043e\\u0432\",\"@flights_amount\"]]},\"id\":\"1029\",\"type\":\"HoverTool\"},{\"attributes\":{\"data\":{\"flights_amount\":[4557,4446,4185,960,630,607,600,300],\"index\":[6,5,7,1,2,0,3,4],\"model\":[\"Cessna 208 Caravan\",\"Bombardier CRJ-200\",\"Sukhoi SuperJet-100\",\"Airbus A321-200\",\"Boeing 737-300\",\"Airbus A319-100\",\"Boeing 767-300\",\"Boeing 777-300\"]},\"selected\":{\"id\":\"1036\"},\"selection_policy\":{\"id\":\"1037\"}},\"id\":\"1023\",\"type\":\"ColumnDataSource\"},{\"attributes\":{\"factors\":[\"Cessna 208 Caravan\",\"Bombardier CRJ-200\",\"Sukhoi SuperJet-100\",\"Airbus A321-200\",\"Boeing 737-300\",\"Airbus A319-100\",\"Boeing 767-300\",\"Boeing 777-300\"]},\"id\":\"1005\",\"type\":\"FactorRange\"},{\"attributes\":{},\"id\":\"1033\",\"type\":\"BasicTickFormatter\"},{\"attributes\":{\"fill_color\":{\"value\":\"#97F0AA\"},\"top\":{\"field\":\"flights_amount\"},\"width\":{\"value\":0.9},\"x\":{\"field\":\"model\"}},\"id\":\"1025\",\"type\":\"VBar\"},{\"attributes\":{\"fill_alpha\":{\"value\":0.1},\"fill_color\":{\"value\":\"#97F0AA\"},\"line_alpha\":{\"value\":0.1},\"top\":{\"field\":\"flights_amount\"},\"width\":{\"value\":0.9},\"x\":{\"field\":\"model\"}},\"id\":\"1026\",\"type\":\"VBar\"},{\"attributes\":{},\"id\":\"1014\",\"type\":\"CategoricalTicker\"},{\"attributes\":{},\"id\":\"1009\",\"type\":\"CategoricalScale\"},{\"attributes\":{\"formatter\":{\"id\":\"1035\"},\"major_label_orientation\":0.8971428571428571,\"major_label_text_font_style\":\"bold\",\"ticker\":{\"id\":\"1014\"}},\"id\":\"1013\",\"type\":\"CategoricalAxis\"},{\"attributes\":{\"data_source\":{\"id\":\"1023\"},\"glyph\":{\"id\":\"1025\"},\"hover_glyph\":null,\"muted_glyph\":null,\"nonselection_glyph\":{\"id\":\"1026\"},\"selection_glyph\":null,\"view\":{\"id\":\"1028\"}},\"id\":\"1027\",\"type\":\"GlyphRenderer\"},{\"attributes\":{},\"id\":\"1037\",\"type\":\"UnionRenderers\"},{\"attributes\":{},\"id\":\"1011\",\"type\":\"LinearScale\"},{\"attributes\":{\"axis\":{\"id\":\"1013\"},\"ticker\":null},\"id\":\"1015\",\"type\":\"Grid\"},{\"attributes\":{},\"id\":\"1017\",\"type\":\"BasicTicker\"},{\"attributes\":{\"axis\":{\"id\":\"1016\"},\"dimension\":1,\"ticker\":null},\"id\":\"1019\",\"type\":\"Grid\"},{\"attributes\":{\"formatter\":{\"id\":\"1033\"},\"ticker\":{\"id\":\"1017\"}},\"id\":\"1016\",\"type\":\"LinearAxis\"},{\"attributes\":{\"text\":\"\\u0414\\u0430\\u043d\\u043d\\u044b\\u0435 \\u043f\\u043e \\u043a\\u043e\\u043b\\u0438\\u0447\\u0435\\u0441\\u0442\\u0432\\u0443 \\u0441\\u043e\\u0432\\u0435\\u0440\\u0448\\u0435\\u043d\\u043d\\u044b\\u0445 \\u043f\\u043e\\u043b\\u0435\\u0442\\u043e\\u0432 \\u043f\\u043e \\u043a\\u0430\\u0436\\u0434\\u043e\\u0439 \\u043c\\u043e\\u0434\\u0435\\u043b\\u0438 \\u0441\\u0430\\u043c\\u043e\\u043b\\u0435\\u0442\\u0430\"},\"id\":\"1003\",\"type\":\"Title\"},{\"attributes\":{\"source\":{\"id\":\"1023\"}},\"id\":\"1028\",\"type\":\"CDSView\"},{\"attributes\":{},\"id\":\"1035\",\"type\":\"CategoricalTickFormatter\"},{\"attributes\":{\"empty_value\":null},\"id\":\"1020\",\"type\":\"BoxEditTool\"}],\"root_ids\":[\"1002\"]},\"title\":\"Bokeh Application\",\"version\":\"2.1.1\"}};\n",
       "  var render_items = [{\"docid\":\"8935438c-287d-4c6a-b73f-7fe0359933f7\",\"root_ids\":[\"1002\"],\"roots\":{\"1002\":\"02aa3de6-dcf1-4b43-b89f-1dd627810e9d\"}}];\n",
       "  root.Bokeh.embed.embed_items_notebook(docs_json, render_items);\n",
       "\n",
       "  }\n",
       "  if (root.Bokeh !== undefined) {\n",
       "    embed_document(root);\n",
       "  } else {\n",
       "    var attempts = 0;\n",
       "    var timer = setInterval(function(root) {\n",
       "      if (root.Bokeh !== undefined) {\n",
       "        clearInterval(timer);\n",
       "        embed_document(root);\n",
       "      } else {\n",
       "        attempts++;\n",
       "        if (attempts > 100) {\n",
       "          clearInterval(timer);\n",
       "          console.log(\"Bokeh: ERROR: Unable to run BokehJS code because BokehJS library is missing\");\n",
       "        }\n",
       "      }\n",
       "    }, 10, root)\n",
       "  }\n",
       "})(window);"
      ],
      "application/vnd.bokehjs_exec.v0+json": ""
     },
     "metadata": {
      "application/vnd.bokehjs_exec.v0+json": {
       "id": "1002"
      }
     },
     "output_type": "display_data"
    }
   ],
   "source": [
    "model_flights_count = model_flights.copy()\n",
    "model_flights_count = model_flights_count.sort_values(by='flights_amount', ascending=False)\n",
    "\n",
    "\n",
    "airplanes = model_flights_count['model'].values\n",
    "values = model_flights_count['flights_amount'].values\n",
    "title = \"Данные по количеству совершенных полетов по каждой модели самолета\"\n",
    "\n",
    "p = figure(x_range=airplanes, \n",
    "           plot_height = 350, \n",
    "           title=title, \n",
    "           tools=\"box_edit\", \n",
    "           toolbar_location=\"right\")\n",
    "\n",
    "source = ColumnDataSource(model_flights_count)\n",
    "p.vbar(x='model', top='flights_amount', width=0.9, source=source, color='#97F0AA', line_color=\"black\")\n",
    "p.add_tools(HoverTool(tooltips=[(\"Модель самолета\", \"@model\"), (\"Кол-во вылетов\", \"@flights_amount\")]))\n",
    "p.xaxis.major_label_orientation = 3.14/3.5\n",
    "p.xaxis.major_label_text_font_style = \"bold\"\n",
    "\n",
    "show(p)"
   ]
  },
  {
   "cell_type": "markdown",
   "metadata": {},
   "source": [
    "3 модели воздушных судов, которые являются лидерами по частоте использования в России (за период сентябрь'18):\n",
    "\n",
    "* Cessna 208 Caravan - 4557 перелетов - небольшие самолеты на 9-13 мест (используют а/к в Сибири);\n",
    "* Bombardier CRJ-200 - 4446 перелетов - самолет на 50 мест, летает Utair;\n",
    "* Sukhoi SuperJet-100 - 4185 перелетов - вместимость - 98 мест."
   ]
  },
  {
   "cell_type": "markdown",
   "metadata": {},
   "source": [
    "**1.2. Топ 10 городов по кол-ву рейсов.**"
   ]
  },
  {
   "cell_type": "code",
   "execution_count": 12,
   "metadata": {},
   "outputs": [
    {
     "data": {
      "image/png": "[encoded data removed]",
      "text/plain": [
       "<Figure size 1296x288 with 1 Axes>"
      ]
     },
     "metadata": {
      "needs_background": "light"
     },
     "output_type": "display_data"
    },
    {
     "name": "stdout",
     "output_type": "stream",
     "text": [
      "              city  average_flights\n",
      "0           Москва       129.774194\n",
      "1  Санкт-Петербург        31.161290\n",
      "2      Новосибирск        17.322581\n",
      "3       Красноярск        11.580645\n",
      "4     Екатеринбург        11.322581\n",
      "5   Ростов-на-Дону        10.193548\n",
      "6            Пермь        10.129032\n",
      "7           Брянск        10.000000\n",
      "8             Сочи         9.612903\n",
      "9        Ульяновск         9.580645\n",
      "-------------------------------------\n",
      "В среднем: 5.494189113891766\n",
      "-------------------------------------\n"
     ]
    }
   ],
   "source": [
    "for_plot(city_flights.sort_values(by = 'average_flights'), 'city', 'average_flights')"
   ]
  },
  {
   "cell_type": "markdown",
   "metadata": {},
   "source": [
    "Большое количество городов, которые не принимают и 10 рейсов. Москва в явных лидерах."
   ]
  },
  {
   "cell_type": "markdown",
   "metadata": {},
   "source": [
    "**2.1 Подгружаем данные с фестивалями.**"
   ]
  },
  {
   "cell_type": "code",
   "execution_count": 13,
   "metadata": {},
   "outputs": [],
   "source": [
    "festivals = pd.read_csv('/datasets/query_last.csv')"
   ]
  },
  {
   "cell_type": "code",
   "execution_count": 14,
   "metadata": {},
   "outputs": [
    {
     "name": "stdout",
     "output_type": "stream",
     "text": [
      "Количество строк - 10\n"
     ]
    }
   ],
   "source": [
    "print('Количество строк - {}'.format(festivals.shape[0]))"
   ]
  },
  {
   "cell_type": "code",
   "execution_count": 15,
   "metadata": {},
   "outputs": [
    {
     "data": {
      "text/html": [
       "<style  type=\"text/css\" >\n",
       "</style><table id=\"T_151dc680_cb51_11ea_ab9c_02420a391a7d\" ><caption>Данные по фестивалям</caption><thead>    <tr>        <th class=\"blank level0\" ></th>        <th class=\"col_heading level0 col0\" >week_number</th>        <th class=\"col_heading level0 col1\" >ticket_amount</th>        <th class=\"col_heading level0 col2\" >festival_week</th>        <th class=\"col_heading level0 col3\" >festival_name</th>    </tr></thead><tbody>\n",
       "                <tr>\n",
       "                        <th id=\"T_151dc680_cb51_11ea_ab9c_02420a391a7dlevel0_row0\" class=\"row_heading level0 row0\" >0</th>\n",
       "                        <td id=\"T_151dc680_cb51_11ea_ab9c_02420a391a7drow0_col0\" class=\"data row0 col0\" >30</td>\n",
       "                        <td id=\"T_151dc680_cb51_11ea_ab9c_02420a391a7drow0_col1\" class=\"data row0 col1\" >43568</td>\n",
       "                        <td id=\"T_151dc680_cb51_11ea_ab9c_02420a391a7drow0_col2\" class=\"data row0 col2\" >30</td>\n",
       "                        <td id=\"T_151dc680_cb51_11ea_ab9c_02420a391a7drow0_col3\" class=\"data row0 col3\" >Park Live</td>\n",
       "            </tr>\n",
       "            <tr>\n",
       "                        <th id=\"T_151dc680_cb51_11ea_ab9c_02420a391a7dlevel0_row1\" class=\"row_heading level0 row1\" >1</th>\n",
       "                        <td id=\"T_151dc680_cb51_11ea_ab9c_02420a391a7drow1_col0\" class=\"data row1 col0\" >31</td>\n",
       "                        <td id=\"T_151dc680_cb51_11ea_ab9c_02420a391a7drow1_col1\" class=\"data row1 col1\" >51034</td>\n",
       "                        <td id=\"T_151dc680_cb51_11ea_ab9c_02420a391a7drow1_col2\" class=\"data row1 col2\" >31</td>\n",
       "                        <td id=\"T_151dc680_cb51_11ea_ab9c_02420a391a7drow1_col3\" class=\"data row1 col3\" >Пикник Афиши</td>\n",
       "            </tr>\n",
       "            <tr>\n",
       "                        <th id=\"T_151dc680_cb51_11ea_ab9c_02420a391a7dlevel0_row2\" class=\"row_heading level0 row2\" >2</th>\n",
       "                        <td id=\"T_151dc680_cb51_11ea_ab9c_02420a391a7drow2_col0\" class=\"data row2 col0\" >32</td>\n",
       "                        <td id=\"T_151dc680_cb51_11ea_ab9c_02420a391a7drow2_col1\" class=\"data row2 col1\" >51675</td>\n",
       "                        <td id=\"T_151dc680_cb51_11ea_ab9c_02420a391a7drow2_col2\" class=\"data row2 col2\" >nan</td>\n",
       "                        <td id=\"T_151dc680_cb51_11ea_ab9c_02420a391a7drow2_col3\" class=\"data row2 col3\" >nan</td>\n",
       "            </tr>\n",
       "            <tr>\n",
       "                        <th id=\"T_151dc680_cb51_11ea_ab9c_02420a391a7dlevel0_row3\" class=\"row_heading level0 row3\" >3</th>\n",
       "                        <td id=\"T_151dc680_cb51_11ea_ab9c_02420a391a7drow3_col0\" class=\"data row3 col0\" >33</td>\n",
       "                        <td id=\"T_151dc680_cb51_11ea_ab9c_02420a391a7drow3_col1\" class=\"data row3 col1\" >51378</td>\n",
       "                        <td id=\"T_151dc680_cb51_11ea_ab9c_02420a391a7drow3_col2\" class=\"data row3 col2\" >nan</td>\n",
       "                        <td id=\"T_151dc680_cb51_11ea_ab9c_02420a391a7drow3_col3\" class=\"data row3 col3\" >nan</td>\n",
       "            </tr>\n",
       "            <tr>\n",
       "                        <th id=\"T_151dc680_cb51_11ea_ab9c_02420a391a7dlevel0_row4\" class=\"row_heading level0 row4\" >4</th>\n",
       "                        <td id=\"T_151dc680_cb51_11ea_ab9c_02420a391a7drow4_col0\" class=\"data row4 col0\" >34</td>\n",
       "                        <td id=\"T_151dc680_cb51_11ea_ab9c_02420a391a7drow4_col1\" class=\"data row4 col1\" >51492</td>\n",
       "                        <td id=\"T_151dc680_cb51_11ea_ab9c_02420a391a7drow4_col2\" class=\"data row4 col2\" >nan</td>\n",
       "                        <td id=\"T_151dc680_cb51_11ea_ab9c_02420a391a7drow4_col3\" class=\"data row4 col3\" >nan</td>\n",
       "            </tr>\n",
       "            <tr>\n",
       "                        <th id=\"T_151dc680_cb51_11ea_ab9c_02420a391a7dlevel0_row5\" class=\"row_heading level0 row5\" >5</th>\n",
       "                        <td id=\"T_151dc680_cb51_11ea_ab9c_02420a391a7drow5_col0\" class=\"data row5 col0\" >35</td>\n",
       "                        <td id=\"T_151dc680_cb51_11ea_ab9c_02420a391a7drow5_col1\" class=\"data row5 col1\" >51360</td>\n",
       "                        <td id=\"T_151dc680_cb51_11ea_ab9c_02420a391a7drow5_col2\" class=\"data row5 col2\" >nan</td>\n",
       "                        <td id=\"T_151dc680_cb51_11ea_ab9c_02420a391a7drow5_col3\" class=\"data row5 col3\" >nan</td>\n",
       "            </tr>\n",
       "            <tr>\n",
       "                        <th id=\"T_151dc680_cb51_11ea_ab9c_02420a391a7dlevel0_row6\" class=\"row_heading level0 row6\" >6</th>\n",
       "                        <td id=\"T_151dc680_cb51_11ea_ab9c_02420a391a7drow6_col0\" class=\"data row6 col0\" >36</td>\n",
       "                        <td id=\"T_151dc680_cb51_11ea_ab9c_02420a391a7drow6_col1\" class=\"data row6 col1\" >51386</td>\n",
       "                        <td id=\"T_151dc680_cb51_11ea_ab9c_02420a391a7drow6_col2\" class=\"data row6 col2\" >36</td>\n",
       "                        <td id=\"T_151dc680_cb51_11ea_ab9c_02420a391a7drow6_col3\" class=\"data row6 col3\" >Видфест</td>\n",
       "            </tr>\n",
       "            <tr>\n",
       "                        <th id=\"T_151dc680_cb51_11ea_ab9c_02420a391a7dlevel0_row7\" class=\"row_heading level0 row7\" >7</th>\n",
       "                        <td id=\"T_151dc680_cb51_11ea_ab9c_02420a391a7drow7_col0\" class=\"data row7 col0\" >37</td>\n",
       "                        <td id=\"T_151dc680_cb51_11ea_ab9c_02420a391a7drow7_col1\" class=\"data row7 col1\" >51670</td>\n",
       "                        <td id=\"T_151dc680_cb51_11ea_ab9c_02420a391a7drow7_col2\" class=\"data row7 col2\" >nan</td>\n",
       "                        <td id=\"T_151dc680_cb51_11ea_ab9c_02420a391a7drow7_col3\" class=\"data row7 col3\" >nan</td>\n",
       "            </tr>\n",
       "            <tr>\n",
       "                        <th id=\"T_151dc680_cb51_11ea_ab9c_02420a391a7dlevel0_row8\" class=\"row_heading level0 row8\" >8</th>\n",
       "                        <td id=\"T_151dc680_cb51_11ea_ab9c_02420a391a7drow8_col0\" class=\"data row8 col0\" >38</td>\n",
       "                        <td id=\"T_151dc680_cb51_11ea_ab9c_02420a391a7drow8_col1\" class=\"data row8 col1\" >51518</td>\n",
       "                        <td id=\"T_151dc680_cb51_11ea_ab9c_02420a391a7drow8_col2\" class=\"data row8 col2\" >nan</td>\n",
       "                        <td id=\"T_151dc680_cb51_11ea_ab9c_02420a391a7drow8_col3\" class=\"data row8 col3\" >nan</td>\n",
       "            </tr>\n",
       "            <tr>\n",
       "                        <th id=\"T_151dc680_cb51_11ea_ab9c_02420a391a7dlevel0_row9\" class=\"row_heading level0 row9\" >9</th>\n",
       "                        <td id=\"T_151dc680_cb51_11ea_ab9c_02420a391a7drow9_col0\" class=\"data row9 col0\" >39</td>\n",
       "                        <td id=\"T_151dc680_cb51_11ea_ab9c_02420a391a7drow9_col1\" class=\"data row9 col1\" >51623</td>\n",
       "                        <td id=\"T_151dc680_cb51_11ea_ab9c_02420a391a7drow9_col2\" class=\"data row9 col2\" >nan</td>\n",
       "                        <td id=\"T_151dc680_cb51_11ea_ab9c_02420a391a7drow9_col3\" class=\"data row9 col3\" >nan</td>\n",
       "            </tr>\n",
       "    </tbody></table>"
      ],
      "text/plain": [
       "<pandas.io.formats.style.Styler at 0x7f5a66d6a990>"
      ]
     },
     "execution_count": 15,
     "metadata": {},
     "output_type": "execute_result"
    }
   ],
   "source": [
    "festivals.style.set_caption('Данные по фестивалям')"
   ]
  },
  {
   "cell_type": "code",
   "execution_count": 16,
   "metadata": {},
   "outputs": [
    {
     "name": "stdout",
     "output_type": "stream",
     "text": [
      "<class 'pandas.core.frame.DataFrame'>\n",
      "RangeIndex: 10 entries, 0 to 9\n",
      "Data columns (total 4 columns):\n",
      "week_number      10 non-null int64\n",
      "ticket_amount    10 non-null int64\n",
      "festival_week    3 non-null float64\n",
      "festival_name    3 non-null object\n",
      "dtypes: float64(1), int64(2), object(1)\n",
      "memory usage: 448.0+ bytes\n"
     ]
    }
   ],
   "source": [
    "festivals.info()"
   ]
  },
  {
   "cell_type": "markdown",
   "metadata": {},
   "source": [
    "Данные нормальные, с ними можно работать. Наны не мешают, по ним можно ориентироваться, был фестиваль или нет."
   ]
  },
  {
   "cell_type": "markdown",
   "metadata": {},
   "source": [
    "**2.2. Формулировка гипотезы.**"
   ]
  },
  {
   "cell_type": "markdown",
   "metadata": {},
   "source": [
    "**Гипотеза: количество рейсов во время фестивалей увеличивается.**"
   ]
  },
  {
   "cell_type": "markdown",
   "metadata": {},
   "source": [
    "Для проверки гипотезы будем использовать t-критерий Стьюдента, т.к. выборки независимы между собой.\n",
    "\n",
    "Определим пороговое значение alpha = 0.05."
   ]
  },
  {
   "cell_type": "markdown",
   "metadata": {},
   "source": [
    "**Н0**: (предположение о том, что между данными у нас нет связи) Средний спрос на билеты во время фестивалей не отличается от среднего спроса на билеты в обычное время.\n",
    "\n",
    "**Н1**: Средний спрос на билеты во время фестивалей отличается от среднего спроса на билеты в обычное время."
   ]
  },
  {
   "cell_type": "markdown",
   "metadata": {},
   "source": [
    "Формируем 2 датафрейма: 1 - с неделями, когда были фестивали; 2 - с неделями, когда фестивалей не проводилось:"
   ]
  },
  {
   "cell_type": "code",
   "execution_count": 17,
   "metadata": {},
   "outputs": [],
   "source": [
    "festival_days = festivals[festivals['festival_week'].notnull()]['ticket_amount']\n",
    "not_festival_dats = festivals[festivals['festival_week'].isnull()]['ticket_amount']"
   ]
  },
  {
   "cell_type": "markdown",
   "metadata": {},
   "source": [
    "**2.3. Проверка гипотезы.**"
   ]
  },
  {
   "cell_type": "code",
   "execution_count": 18,
   "metadata": {},
   "outputs": [],
   "source": [
    "from scipy.stats import ttest_ind\n",
    "import scipy.stats as st"
   ]
  },
  {
   "cell_type": "markdown",
   "metadata": {},
   "source": [
    "Установим параметр equal_var = False, т.к. пусть и выборки независимы между собой, но мы не уверены, что они имеют одинаковую дисперсию:"
   ]
  },
  {
   "cell_type": "code",
   "execution_count": 19,
   "metadata": {},
   "outputs": [
    {
     "name": "stdout",
     "output_type": "stream",
     "text": [
      "t = -1.1248513751916296\n",
      "p-value = 3.7743249317e-01\n",
      "\n",
      "Пороговое значение alpha = 0.05\n",
      "\n",
      "Итог - оставляем в силе нулевую гипотезу\n"
     ]
    }
   ],
   "source": [
    "stat, p = ttest_ind(festival_days, not_festival_dats, equal_var=False)\n",
    "print('t = {}\\np-value = {:.10e}'.format(stat, p))\n",
    "print('\\nПороговое значение alpha = 0.05')\n",
    "print('\\nИтог - {}'.format('отклоняем нулевую гипотезу' if p <= 0.05 else 'оставляем в силе нулевую гипотезу'))"
   ]
  },
  {
   "cell_type": "markdown",
   "metadata": {},
   "source": [
    "Верно: **Средний спрос на билеты во время фестивалей не отличается от среднего спроса на билеты в обычное время.**"
   ]
  },
  {
   "cell_type": "markdown",
   "metadata": {},
   "source": [
    "**2.4. Расчет доверительных интервалов по выборкам.**"
   ]
  },
  {
   "cell_type": "code",
   "execution_count": 20,
   "metadata": {},
   "outputs": [],
   "source": [
    "import statsmodels.stats.api as sms"
   ]
  },
  {
   "cell_type": "code",
   "execution_count": 22,
   "metadata": {},
   "outputs": [
    {
     "name": "stdout",
     "output_type": "stream",
     "text": [
      "Доверительный интервал по данным из выборки, когда фестиваль проходил - (37693.65924921319, 59631.67408412014)\n",
      "Доверительный интервал по данным из выборки, когда фестиваль не проходил - (51409.764223837876, 51651.950061876414)\n"
     ]
    }
   ],
   "source": [
    "print('Доверительный интервал по данным из выборки, когда фестиваль проходил - {}'.\n",
    "      format(sms.DescrStatsW(festival_days).tconfint_mean()))\n",
    "print('Доверительный интервал по данным из выборки, когда фестиваль не проходил - {}'.\n",
    "      format(sms.DescrStatsW(not_festival_dats).tconfint_mean()))"
   ]
  },
  {
   "cell_type": "markdown",
   "metadata": {},
   "source": [
    "К чему мы пришли:"
   ]
  },
  {
   "cell_type": "markdown",
   "metadata": {},
   "source": [
    "* **пришли к выводу, что в дни фестивалей средний спрос на авиабилеты не отличается от спрос на авиабилеты в те дни, когда фестивали не проводятся;**\n",
    "* **изучили данные по количеству перелетов за сентябрь 2018г. по каждой модели самолета, выяснили, что самыми используемыми моделями самолета (в сентябре 2018г.) являются Cessna 208 Caravan, Bombardier CRJ-200 и Sukhoi SuperJet-100;**\n",
    "* **всего в сентябре 2018 в Москве было проведено 3 крупных Фестиваля: Park Live, Пикник Афиши, Видфест. Их проведение, в среднем, не повлияло на количество приобретенных билетов с пунктом назначения - Москва;**\n",
    "* **в среднем за сентябрь 2018 года каждый город, отраженный в данных, в среднем принял 5 рейсов.**"
   ]
  }
 ],
 "metadata": {
  "kernelspec": {
   "display_name": "Python 3",
   "language": "python",
   "name": "python3"
  },
  "language_info": {
   "codemirror_mode": {
    "name": "ipython",
    "version": 3
   },
   "file_extension": ".py",
   "mimetype": "text/x-python",
   "name": "python",
   "nbconvert_exporter": "python",
   "pygments_lexer": "ipython3",
   "version": "3.7.6"
  }
 },
 "nbformat": 4,
 "nbformat_minor": 2
}
