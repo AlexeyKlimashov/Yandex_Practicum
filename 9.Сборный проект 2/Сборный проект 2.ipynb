{
 "cells": [
  {
   "cell_type": "markdown",
   "metadata": {},
   "source": [
    "# Сборный проект"
   ]
  },
  {
   "cell_type": "markdown",
   "metadata": {},
   "source": [
    "## Оглавление"
   ]
  },
  {
   "cell_type": "markdown",
   "metadata": {},
   "source": [
    "1.Загрузка и предобработка данных\n",
    "\n",
    "* Загрузка библиотек\n",
    "* Загрузка данных\n",
    "* Предобработка данных\n",
    "* Проверка корректности данных\n",
    "\n",
    "2.Изучение воронки событий\n",
    "\n",
    "3.Изучение результатов эксперимента\n",
    "\n",
    "* Тесты на равенство долей между двумя контрольными группами\n",
    "* Тесты на равенство долей между экспериментальной группой и совокупностью из двух контрольных групп\n",
    "\n",
    "4.Общий вывод"
   ]
  },
  {
   "cell_type": "markdown",
   "metadata": {},
   "source": [
    "# 1. Загрузка и предобработка данных"
   ]
  },
  {
   "cell_type": "markdown",
   "metadata": {},
   "source": [
    "**1.1 Загрузка библиотек**"
   ]
  },
  {
   "cell_type": "code",
   "execution_count": 36,
   "metadata": {},
   "outputs": [],
   "source": [
    "!pip install plotly==4.10.0\n",
    "import pandas as pd\n",
    "import numpy as np\n",
    "import seaborn as sns\n",
    "import matplotlib.pyplot as plt\n",
    "import datetime\n",
    "from plotly import graph_objects as go\n",
    "import plotly.express as px\n",
    "from scipy import stats as st\n",
    "import math as mth"
   ]
  },
  {
   "cell_type": "markdown",
   "metadata": {},
   "source": [
    "**1.2 Загрузка данных**"
   ]
  },
  {
   "cell_type": "code",
   "execution_count": 37,
   "metadata": {},
   "outputs": [],
   "source": [
    "data = pd.read_csv('/datasets/logs_exp.csv', sep = \"\\t\")"
   ]
  },
  {
   "cell_type": "code",
   "execution_count": 38,
   "metadata": {},
   "outputs": [
    {
     "data": {
      "text/html": [
       "<div>\n",
       "<style scoped>\n",
       "    .dataframe tbody tr th:only-of-type {\n",
       "        vertical-align: middle;\n",
       "    }\n",
       "\n",
       "    .dataframe tbody tr th {\n",
       "        vertical-align: top;\n",
       "    }\n",
       "\n",
       "    .dataframe thead th {\n",
       "        text-align: right;\n",
       "    }\n",
       "</style>\n",
       "<table border=\"1\" class=\"dataframe\">\n",
       "  <thead>\n",
       "    <tr style=\"text-align: right;\">\n",
       "      <th></th>\n",
       "      <th>EventName</th>\n",
       "      <th>DeviceIDHash</th>\n",
       "      <th>EventTimestamp</th>\n",
       "      <th>ExpId</th>\n",
       "    </tr>\n",
       "  </thead>\n",
       "  <tbody>\n",
       "    <tr>\n",
       "      <td>0</td>\n",
       "      <td>MainScreenAppear</td>\n",
       "      <td>4575588528974610257</td>\n",
       "      <td>1564029816</td>\n",
       "      <td>246</td>\n",
       "    </tr>\n",
       "    <tr>\n",
       "      <td>1</td>\n",
       "      <td>MainScreenAppear</td>\n",
       "      <td>7416695313311560658</td>\n",
       "      <td>1564053102</td>\n",
       "      <td>246</td>\n",
       "    </tr>\n",
       "    <tr>\n",
       "      <td>2</td>\n",
       "      <td>PaymentScreenSuccessful</td>\n",
       "      <td>3518123091307005509</td>\n",
       "      <td>1564054127</td>\n",
       "      <td>248</td>\n",
       "    </tr>\n",
       "    <tr>\n",
       "      <td>3</td>\n",
       "      <td>CartScreenAppear</td>\n",
       "      <td>3518123091307005509</td>\n",
       "      <td>1564054127</td>\n",
       "      <td>248</td>\n",
       "    </tr>\n",
       "    <tr>\n",
       "      <td>4</td>\n",
       "      <td>PaymentScreenSuccessful</td>\n",
       "      <td>6217807653094995999</td>\n",
       "      <td>1564055322</td>\n",
       "      <td>248</td>\n",
       "    </tr>\n",
       "    <tr>\n",
       "      <td>...</td>\n",
       "      <td>...</td>\n",
       "      <td>...</td>\n",
       "      <td>...</td>\n",
       "      <td>...</td>\n",
       "    </tr>\n",
       "    <tr>\n",
       "      <td>244121</td>\n",
       "      <td>MainScreenAppear</td>\n",
       "      <td>4599628364049201812</td>\n",
       "      <td>1565212345</td>\n",
       "      <td>247</td>\n",
       "    </tr>\n",
       "    <tr>\n",
       "      <td>244122</td>\n",
       "      <td>MainScreenAppear</td>\n",
       "      <td>5849806612437486590</td>\n",
       "      <td>1565212439</td>\n",
       "      <td>246</td>\n",
       "    </tr>\n",
       "    <tr>\n",
       "      <td>244123</td>\n",
       "      <td>MainScreenAppear</td>\n",
       "      <td>5746969938801999050</td>\n",
       "      <td>1565212483</td>\n",
       "      <td>246</td>\n",
       "    </tr>\n",
       "    <tr>\n",
       "      <td>244124</td>\n",
       "      <td>MainScreenAppear</td>\n",
       "      <td>5746969938801999050</td>\n",
       "      <td>1565212498</td>\n",
       "      <td>246</td>\n",
       "    </tr>\n",
       "    <tr>\n",
       "      <td>244125</td>\n",
       "      <td>OffersScreenAppear</td>\n",
       "      <td>5746969938801999050</td>\n",
       "      <td>1565212517</td>\n",
       "      <td>246</td>\n",
       "    </tr>\n",
       "  </tbody>\n",
       "</table>\n",
       "<p>244126 rows × 4 columns</p>\n",
       "</div>"
      ],
      "text/plain": [
       "                      EventName         DeviceIDHash  EventTimestamp  ExpId\n",
       "0              MainScreenAppear  4575588528974610257      1564029816    246\n",
       "1              MainScreenAppear  7416695313311560658      1564053102    246\n",
       "2       PaymentScreenSuccessful  3518123091307005509      1564054127    248\n",
       "3              CartScreenAppear  3518123091307005509      1564054127    248\n",
       "4       PaymentScreenSuccessful  6217807653094995999      1564055322    248\n",
       "...                         ...                  ...             ...    ...\n",
       "244121         MainScreenAppear  4599628364049201812      1565212345    247\n",
       "244122         MainScreenAppear  5849806612437486590      1565212439    246\n",
       "244123         MainScreenAppear  5746969938801999050      1565212483    246\n",
       "244124         MainScreenAppear  5746969938801999050      1565212498    246\n",
       "244125       OffersScreenAppear  5746969938801999050      1565212517    246\n",
       "\n",
       "[244126 rows x 4 columns]"
      ]
     },
     "execution_count": 38,
     "metadata": {},
     "output_type": "execute_result"
    }
   ],
   "source": [
    "data"
   ]
  },
  {
   "cell_type": "markdown",
   "metadata": {},
   "source": [
    "**1.3 Предобработка данных**"
   ]
  },
  {
   "cell_type": "markdown",
   "metadata": {},
   "source": [
    "Переименовываю столбцы:"
   ]
  },
  {
   "cell_type": "code",
   "execution_count": 39,
   "metadata": {},
   "outputs": [],
   "source": [
    "data.columns = ['event', 'deviceID', 'time', 'group']"
   ]
  },
  {
   "cell_type": "markdown",
   "metadata": {},
   "source": [
    "<font color='blue'> \n",
    "### <u>КОММЕНТАРИЙ РЕВЬЮЕРА</u>\n",
    "</font>\n",
    "<font color='green'>\n",
    "порядок в названиях. Как говорят японцы: порядок на рабочем месте - начало успеха))"
   ]
  },
  {
   "cell_type": "markdown",
   "metadata": {},
   "source": [
    "Проверяю наличие дубликатов:"
   ]
  },
  {
   "cell_type": "code",
   "execution_count": 40,
   "metadata": {},
   "outputs": [
    {
     "data": {
      "text/plain": [
       "event       413\n",
       "deviceID    413\n",
       "time        413\n",
       "group       413\n",
       "dtype: int64"
      ]
     },
     "execution_count": 40,
     "metadata": {},
     "output_type": "execute_result"
    }
   ],
   "source": [
    "data[data.duplicated() == True].count()"
   ]
  },
  {
   "cell_type": "markdown",
   "metadata": {},
   "source": [
    "Так как время событий указано в секундах, полные дубликаты событий вплоть до секунды не могут быть реальными записями. При этом повторения любых комбинаций одного или нескольких столбцов в отдельности могут дублироваться. Удаляю все полностью дублирующиеся записи:"
   ]
  },
  {
   "cell_type": "code",
   "execution_count": 41,
   "metadata": {},
   "outputs": [],
   "source": [
    "data = data.drop_duplicates().reset_index(drop=True)"
   ]
  },
  {
   "cell_type": "markdown",
   "metadata": {},
   "source": [
    "Перевожу столбец времени в соответствующий формат:"
   ]
  },
  {
   "cell_type": "code",
   "execution_count": 42,
   "metadata": {},
   "outputs": [],
   "source": [
    "data.time = pd.to_datetime(data.time, unit = 's')"
   ]
  },
  {
   "cell_type": "code",
   "execution_count": 43,
   "metadata": {},
   "outputs": [
    {
     "data": {
      "text/html": [
       "<div>\n",
       "<style scoped>\n",
       "    .dataframe tbody tr th:only-of-type {\n",
       "        vertical-align: middle;\n",
       "    }\n",
       "\n",
       "    .dataframe tbody tr th {\n",
       "        vertical-align: top;\n",
       "    }\n",
       "\n",
       "    .dataframe thead th {\n",
       "        text-align: right;\n",
       "    }\n",
       "</style>\n",
       "<table border=\"1\" class=\"dataframe\">\n",
       "  <thead>\n",
       "    <tr style=\"text-align: right;\">\n",
       "      <th></th>\n",
       "      <th>event</th>\n",
       "      <th>deviceID</th>\n",
       "      <th>time</th>\n",
       "      <th>group</th>\n",
       "    </tr>\n",
       "  </thead>\n",
       "  <tbody>\n",
       "    <tr>\n",
       "      <td>0</td>\n",
       "      <td>MainScreenAppear</td>\n",
       "      <td>4575588528974610257</td>\n",
       "      <td>2019-07-25 04:43:36</td>\n",
       "      <td>246</td>\n",
       "    </tr>\n",
       "    <tr>\n",
       "      <td>1</td>\n",
       "      <td>MainScreenAppear</td>\n",
       "      <td>7416695313311560658</td>\n",
       "      <td>2019-07-25 11:11:42</td>\n",
       "      <td>246</td>\n",
       "    </tr>\n",
       "    <tr>\n",
       "      <td>2</td>\n",
       "      <td>PaymentScreenSuccessful</td>\n",
       "      <td>3518123091307005509</td>\n",
       "      <td>2019-07-25 11:28:47</td>\n",
       "      <td>248</td>\n",
       "    </tr>\n",
       "    <tr>\n",
       "      <td>3</td>\n",
       "      <td>CartScreenAppear</td>\n",
       "      <td>3518123091307005509</td>\n",
       "      <td>2019-07-25 11:28:47</td>\n",
       "      <td>248</td>\n",
       "    </tr>\n",
       "    <tr>\n",
       "      <td>4</td>\n",
       "      <td>PaymentScreenSuccessful</td>\n",
       "      <td>6217807653094995999</td>\n",
       "      <td>2019-07-25 11:48:42</td>\n",
       "      <td>248</td>\n",
       "    </tr>\n",
       "    <tr>\n",
       "      <td>...</td>\n",
       "      <td>...</td>\n",
       "      <td>...</td>\n",
       "      <td>...</td>\n",
       "      <td>...</td>\n",
       "    </tr>\n",
       "    <tr>\n",
       "      <td>243708</td>\n",
       "      <td>MainScreenAppear</td>\n",
       "      <td>4599628364049201812</td>\n",
       "      <td>2019-08-07 21:12:25</td>\n",
       "      <td>247</td>\n",
       "    </tr>\n",
       "    <tr>\n",
       "      <td>243709</td>\n",
       "      <td>MainScreenAppear</td>\n",
       "      <td>5849806612437486590</td>\n",
       "      <td>2019-08-07 21:13:59</td>\n",
       "      <td>246</td>\n",
       "    </tr>\n",
       "    <tr>\n",
       "      <td>243710</td>\n",
       "      <td>MainScreenAppear</td>\n",
       "      <td>5746969938801999050</td>\n",
       "      <td>2019-08-07 21:14:43</td>\n",
       "      <td>246</td>\n",
       "    </tr>\n",
       "    <tr>\n",
       "      <td>243711</td>\n",
       "      <td>MainScreenAppear</td>\n",
       "      <td>5746969938801999050</td>\n",
       "      <td>2019-08-07 21:14:58</td>\n",
       "      <td>246</td>\n",
       "    </tr>\n",
       "    <tr>\n",
       "      <td>243712</td>\n",
       "      <td>OffersScreenAppear</td>\n",
       "      <td>5746969938801999050</td>\n",
       "      <td>2019-08-07 21:15:17</td>\n",
       "      <td>246</td>\n",
       "    </tr>\n",
       "  </tbody>\n",
       "</table>\n",
       "<p>243713 rows × 4 columns</p>\n",
       "</div>"
      ],
      "text/plain": [
       "                          event             deviceID                time  \\\n",
       "0              MainScreenAppear  4575588528974610257 2019-07-25 04:43:36   \n",
       "1              MainScreenAppear  7416695313311560658 2019-07-25 11:11:42   \n",
       "2       PaymentScreenSuccessful  3518123091307005509 2019-07-25 11:28:47   \n",
       "3              CartScreenAppear  3518123091307005509 2019-07-25 11:28:47   \n",
       "4       PaymentScreenSuccessful  6217807653094995999 2019-07-25 11:48:42   \n",
       "...                         ...                  ...                 ...   \n",
       "243708         MainScreenAppear  4599628364049201812 2019-08-07 21:12:25   \n",
       "243709         MainScreenAppear  5849806612437486590 2019-08-07 21:13:59   \n",
       "243710         MainScreenAppear  5746969938801999050 2019-08-07 21:14:43   \n",
       "243711         MainScreenAppear  5746969938801999050 2019-08-07 21:14:58   \n",
       "243712       OffersScreenAppear  5746969938801999050 2019-08-07 21:15:17   \n",
       "\n",
       "        group  \n",
       "0         246  \n",
       "1         246  \n",
       "2         248  \n",
       "3         248  \n",
       "4         248  \n",
       "...       ...  \n",
       "243708    247  \n",
       "243709    246  \n",
       "243710    246  \n",
       "243711    246  \n",
       "243712    246  \n",
       "\n",
       "[243713 rows x 4 columns]"
      ]
     },
     "execution_count": 43,
     "metadata": {},
     "output_type": "execute_result"
    }
   ],
   "source": [
    "data"
   ]
  },
  {
   "cell_type": "code",
   "execution_count": 44,
   "metadata": {},
   "outputs": [
    {
     "name": "stdout",
     "output_type": "stream",
     "text": [
      "<class 'pandas.core.frame.DataFrame'>\n",
      "RangeIndex: 243713 entries, 0 to 243712\n",
      "Data columns (total 4 columns):\n",
      "event       243713 non-null object\n",
      "deviceID    243713 non-null int64\n",
      "time        243713 non-null datetime64[ns]\n",
      "group       243713 non-null int64\n",
      "dtypes: datetime64[ns](1), int64(2), object(1)\n",
      "memory usage: 7.4+ MB\n"
     ]
    }
   ],
   "source": [
    "data.info()"
   ]
  },
  {
   "cell_type": "markdown",
   "metadata": {},
   "source": [
    "**1.4 Проверка корректности данных**"
   ]
  },
  {
   "cell_type": "markdown",
   "metadata": {},
   "source": [
    "Просматриваю данные в каждом столбце:"
   ]
  },
  {
   "cell_type": "markdown",
   "metadata": {},
   "source": [
    "**События (event):**"
   ]
  },
  {
   "cell_type": "code",
   "execution_count": 45,
   "metadata": {},
   "outputs": [],
   "source": [
    "def total(dataframe):\n",
    "    new_dataframe = dataframe.append(pd.DataFrame([['total', dataframe.sum()[1]]], columns = dataframe.columns))\n",
    "    return new_dataframe"
   ]
  },
  {
   "cell_type": "code",
   "execution_count": 46,
   "metadata": {},
   "outputs": [
    {
     "data": {
      "text/html": [
       "<div>\n",
       "<style scoped>\n",
       "    .dataframe tbody tr th:only-of-type {\n",
       "        vertical-align: middle;\n",
       "    }\n",
       "\n",
       "    .dataframe tbody tr th {\n",
       "        vertical-align: top;\n",
       "    }\n",
       "\n",
       "    .dataframe thead th {\n",
       "        text-align: right;\n",
       "    }\n",
       "</style>\n",
       "<table border=\"1\" class=\"dataframe\">\n",
       "  <thead>\n",
       "    <tr style=\"text-align: right;\">\n",
       "      <th></th>\n",
       "      <th>event</th>\n",
       "      <th>deviceID</th>\n",
       "    </tr>\n",
       "  </thead>\n",
       "  <tbody>\n",
       "    <tr>\n",
       "      <td>1</td>\n",
       "      <td>MainScreenAppear</td>\n",
       "      <td>119101</td>\n",
       "    </tr>\n",
       "    <tr>\n",
       "      <td>2</td>\n",
       "      <td>OffersScreenAppear</td>\n",
       "      <td>46808</td>\n",
       "    </tr>\n",
       "    <tr>\n",
       "      <td>0</td>\n",
       "      <td>CartScreenAppear</td>\n",
       "      <td>42668</td>\n",
       "    </tr>\n",
       "    <tr>\n",
       "      <td>3</td>\n",
       "      <td>PaymentScreenSuccessful</td>\n",
       "      <td>34118</td>\n",
       "    </tr>\n",
       "    <tr>\n",
       "      <td>4</td>\n",
       "      <td>Tutorial</td>\n",
       "      <td>1018</td>\n",
       "    </tr>\n",
       "    <tr>\n",
       "      <td>0</td>\n",
       "      <td>total</td>\n",
       "      <td>243713</td>\n",
       "    </tr>\n",
       "  </tbody>\n",
       "</table>\n",
       "</div>"
      ],
      "text/plain": [
       "                     event  deviceID\n",
       "1         MainScreenAppear    119101\n",
       "2       OffersScreenAppear     46808\n",
       "0         CartScreenAppear     42668\n",
       "3  PaymentScreenSuccessful     34118\n",
       "4                 Tutorial      1018\n",
       "0                    total    243713"
      ]
     },
     "execution_count": 46,
     "metadata": {},
     "output_type": "execute_result"
    }
   ],
   "source": [
    "total(data.groupby('event',as_index = False)['deviceID'].count().sort_values(by = 'deviceID', ascending = False))"
   ]
  },
  {
   "cell_type": "markdown",
   "metadata": {},
   "source": [
    "Всего в датасете 243 713 событий.\n",
    "\n",
    "Первые четыре вида событий явно представляют собой воронку продаж с убывающим количеством событий. Просмотр руководства (tutorial), кажется, находится вне воронки."
   ]
  },
  {
   "cell_type": "markdown",
   "metadata": {},
   "source": [
    "**ID устройства (deviceID):**"
   ]
  },
  {
   "cell_type": "code",
   "execution_count": 47,
   "metadata": {},
   "outputs": [
    {
     "name": "stdout",
     "output_type": "stream",
     "text": [
      "Количество уникальных устройств: 7551\n",
      "Среднее количество событий для одного устройства: 32\n",
      "Максимальное количество событий для одного устройства: 2307\n"
     ]
    },
    {
     "data": {
      "image/png": "[encoded data removed]",
      "text/plain": [
       "<Figure size 432x288 with 1 Axes>"
      ]
     },
     "metadata": {
      "needs_background": "light"
     },
     "output_type": "display_data"
    }
   ],
   "source": [
    "data.groupby('deviceID')['event'].count().hist(bins = 100)\n",
    "print('Количество уникальных устройств:', data['deviceID'].nunique())\n",
    "print('Среднее количество событий для одного устройства:', round(data.groupby('deviceID')['event'].count().mean()))\n",
    "print('Максимальное количество событий для одного устройства:', data.groupby('deviceID')['event'].count().max())"
   ]
  },
  {
   "cell_type": "markdown",
   "metadata": {},
   "source": [
    "Есть девайсы с высокой активностью, но в целом данные выглядят корректно."
   ]
  },
  {
   "cell_type": "markdown",
   "metadata": {},
   "source": [
    "**Время события (time):**"
   ]
  },
  {
   "cell_type": "code",
   "execution_count": 48,
   "metadata": {},
   "outputs": [
    {
     "name": "stdout",
     "output_type": "stream",
     "text": [
      "Охват времени датасета: от 2019-07-25 04:43:36 до 2019-08-07 21:15:17 . Итого 13 days 16:31:41\n"
     ]
    }
   ],
   "source": [
    "print('Охват времени датасета: от', data['time'].min(), 'до', data['time'].max(), '. Итого', (data['time'].max() - data['time'].min()))"
   ]
  },
  {
   "cell_type": "markdown",
   "metadata": {},
   "source": [
    "Период времени в датасете охватывает 14 дней, единицей времени для анализа является день. Добавляю столбец с днями:"
   ]
  },
  {
   "cell_type": "code",
   "execution_count": 49,
   "metadata": {},
   "outputs": [],
   "source": [
    "data['day'] = data['time'].dt.day"
   ]
  },
  {
   "cell_type": "code",
   "execution_count": 50,
   "metadata": {},
   "outputs": [
    {
     "data": {
      "text/plain": [
       "<matplotlib.axes._subplots.AxesSubplot at 0x7f04c8fc3a50>"
      ]
     },
     "execution_count": 50,
     "metadata": {},
     "output_type": "execute_result"
    },
    {
     "data": {
      "image/png": "[encoded data removed]",
      "text/plain": [
       "<Figure size 576x216 with 1 Axes>"
      ]
     },
     "metadata": {},
     "output_type": "display_data"
    }
   ],
   "source": [
    "sns.set_style('whitegrid')\n",
    "plt.figure(figsize=(8, 3))\n",
    "sns.barplot(data = data.groupby('day',as_index = False)['event'].count(), x = 'day', y = 'event')"
   ]
  },
  {
   "cell_type": "markdown",
   "metadata": {},
   "source": [
    "Полные данные есть только за первую неделю августа, а за последнюю неделю июля их почти нет. Убираю эти данные:"
   ]
  },
  {
   "cell_type": "code",
   "execution_count": 51,
   "metadata": {},
   "outputs": [],
   "source": [
    "data = data[data['day']<25]"
   ]
  },
  {
   "cell_type": "markdown",
   "metadata": {},
   "source": [
    "**Группа по номеру эксперимента (group).**\n",
    "\n",
    "246 и 247 — контрольные группы, а 248 — экспериментальная.\n",
    "\n",
    "Для начала гляну количество событий и пользователей в каждой группе:"
   ]
  },
  {
   "cell_type": "code",
   "execution_count": 52,
   "metadata": {},
   "outputs": [
    {
     "data": {
      "text/html": [
       "<div>\n",
       "<style scoped>\n",
       "    .dataframe tbody tr th:only-of-type {\n",
       "        vertical-align: middle;\n",
       "    }\n",
       "\n",
       "    .dataframe tbody tr th {\n",
       "        vertical-align: top;\n",
       "    }\n",
       "\n",
       "    .dataframe thead th {\n",
       "        text-align: right;\n",
       "    }\n",
       "</style>\n",
       "<table border=\"1\" class=\"dataframe\">\n",
       "  <thead>\n",
       "    <tr style=\"text-align: right;\">\n",
       "      <th></th>\n",
       "      <th>group</th>\n",
       "      <th>event</th>\n",
       "      <th>deviceID</th>\n",
       "    </tr>\n",
       "  </thead>\n",
       "  <tbody>\n",
       "    <tr>\n",
       "      <td>0</td>\n",
       "      <td>246</td>\n",
       "      <td>79302</td>\n",
       "      <td>2484</td>\n",
       "    </tr>\n",
       "    <tr>\n",
       "      <td>1</td>\n",
       "      <td>247</td>\n",
       "      <td>77022</td>\n",
       "      <td>2513</td>\n",
       "    </tr>\n",
       "    <tr>\n",
       "      <td>2</td>\n",
       "      <td>248</td>\n",
       "      <td>84563</td>\n",
       "      <td>2537</td>\n",
       "    </tr>\n",
       "  </tbody>\n",
       "</table>\n",
       "</div>"
      ],
      "text/plain": [
       "   group  event  deviceID\n",
       "0    246  79302      2484\n",
       "1    247  77022      2513\n",
       "2    248  84563      2537"
      ]
     },
     "execution_count": 52,
     "metadata": {},
     "output_type": "execute_result"
    }
   ],
   "source": [
    "data.groupby('group', as_index = False).agg({'event':'count', 'deviceID':'nunique'})"
   ]
  },
  {
   "cell_type": "markdown",
   "metadata": {},
   "source": [
    "Все группы примерно одинаковые по кол-ву пользователей и событий, посмотрим все ли пользователи только в одной группе"
   ]
  },
  {
   "cell_type": "code",
   "execution_count": 53,
   "metadata": {},
   "outputs": [
    {
     "data": {
      "text/plain": [
       "0"
      ]
     },
     "execution_count": 53,
     "metadata": {},
     "output_type": "execute_result"
    }
   ],
   "source": [
    "counter = 0\n",
    "for i in data['group'].unique():\n",
    "    counter = counter + data[data['group'] == i]['deviceID'].nunique()\n",
    "counter - data['deviceID'].nunique()"
   ]
  },
  {
   "cell_type": "markdown",
   "metadata": {},
   "source": [
    "Шикарно. Каждый в своей группе. Эксперимент проводился корректно."
   ]
  },
  {
   "cell_type": "markdown",
   "metadata": {},
   "source": [
    "# 2. Изучение воронки событий"
   ]
  },
  {
   "cell_type": "markdown",
   "metadata": {},
   "source": [
    "Для начала повторим список и количество событий в воронке на основе уже очищенных данных:"
   ]
  },
  {
   "cell_type": "code",
   "execution_count": 54,
   "metadata": {},
   "outputs": [
    {
     "data": {
      "text/html": [
       "<div>\n",
       "<style scoped>\n",
       "    .dataframe tbody tr th:only-of-type {\n",
       "        vertical-align: middle;\n",
       "    }\n",
       "\n",
       "    .dataframe tbody tr th {\n",
       "        vertical-align: top;\n",
       "    }\n",
       "\n",
       "    .dataframe thead th {\n",
       "        text-align: right;\n",
       "    }\n",
       "</style>\n",
       "<table border=\"1\" class=\"dataframe\">\n",
       "  <thead>\n",
       "    <tr style=\"text-align: right;\">\n",
       "      <th></th>\n",
       "      <th>event</th>\n",
       "      <th>deviceID</th>\n",
       "    </tr>\n",
       "  </thead>\n",
       "  <tbody>\n",
       "    <tr>\n",
       "      <td>1</td>\n",
       "      <td>MainScreenAppear</td>\n",
       "      <td>117328</td>\n",
       "    </tr>\n",
       "    <tr>\n",
       "      <td>2</td>\n",
       "      <td>OffersScreenAppear</td>\n",
       "      <td>46333</td>\n",
       "    </tr>\n",
       "    <tr>\n",
       "      <td>0</td>\n",
       "      <td>CartScreenAppear</td>\n",
       "      <td>42303</td>\n",
       "    </tr>\n",
       "    <tr>\n",
       "      <td>3</td>\n",
       "      <td>PaymentScreenSuccessful</td>\n",
       "      <td>33918</td>\n",
       "    </tr>\n",
       "    <tr>\n",
       "      <td>4</td>\n",
       "      <td>Tutorial</td>\n",
       "      <td>1005</td>\n",
       "    </tr>\n",
       "    <tr>\n",
       "      <td>0</td>\n",
       "      <td>total</td>\n",
       "      <td>240887</td>\n",
       "    </tr>\n",
       "  </tbody>\n",
       "</table>\n",
       "</div>"
      ],
      "text/plain": [
       "                     event  deviceID\n",
       "1         MainScreenAppear    117328\n",
       "2       OffersScreenAppear     46333\n",
       "0         CartScreenAppear     42303\n",
       "3  PaymentScreenSuccessful     33918\n",
       "4                 Tutorial      1005\n",
       "0                    total    240887"
      ]
     },
     "execution_count": 54,
     "metadata": {},
     "output_type": "execute_result"
    }
   ],
   "source": [
    "total(data.groupby('event',as_index = False)['deviceID'].count().sort_values(by = 'deviceID', ascending = False))"
   ]
  },
  {
   "cell_type": "markdown",
   "metadata": {},
   "source": [
    "Скорее всего, Tutorial не относится к воронке, в дальнейшем я не буду его учитывать.\n",
    "\n",
    "Пишу функцию, которая рассчитывает показатели по воронке:"
   ]
  },
  {
   "cell_type": "code",
   "execution_count": 55,
   "metadata": {},
   "outputs": [],
   "source": [
    "def funnel_from_df(dataframe):\n",
    "    funnel = (dataframe['deviceID'].nunique() - \\\n",
    "         dataframe.pivot_table(index = 'deviceID', columns = 'event', values = 'group', aggfunc = 'count').isna().sum())\\\n",
    "           .sort_values(ascending = False).head(4).reset_index()\n",
    "    funnel.columns = ['event', 'number']\n",
    "    funnel['share'] = funnel['number'] / funnel.loc[0,'number']\n",
    "    return funnel"
   ]
  },
  {
   "cell_type": "markdown",
   "metadata": {},
   "source": [
    "Считаю воронку для каждой группы эксперимента в отдельности:"
   ]
  },
  {
   "cell_type": "code",
   "execution_count": 56,
   "metadata": {},
   "outputs": [],
   "source": [
    "funnel = pd.DataFrame(columns=['event', 'number', 'group'])\n",
    "for i in data['group'].unique():\n",
    "    funnel_group = funnel_from_df(data.query('group == @i'))\n",
    "    funnel_group['group'] = i\n",
    "    funnel = funnel.append(funnel_group, sort=True)\n",
    "funnel = funnel.reset_index(drop=True)"
   ]
  },
  {
   "cell_type": "code",
   "execution_count": 57,
   "metadata": {},
   "outputs": [
    {
     "ename": "AttributeError",
     "evalue": "module 'plotly.express' has no attribute 'sunburst'",
     "output_type": "error",
     "traceback": [
      "\u001b[0;31m---------------------------------------------------------------------------\u001b[0m",
      "\u001b[0;31mAttributeError\u001b[0m                            Traceback (most recent call last)",
      "\u001b[0;32m<ipython-input-57-20611eeedb25>\u001b[0m in \u001b[0;36m<module>\u001b[0;34m\u001b[0m\n\u001b[0;32m----> 1\u001b[0;31m \u001b[0mfig\u001b[0m \u001b[0;34m=\u001b[0m \u001b[0mpx\u001b[0m\u001b[0;34m.\u001b[0m\u001b[0msunburst\u001b[0m\u001b[0;34m(\u001b[0m\u001b[0mfunnel\u001b[0m\u001b[0;34m,\u001b[0m \u001b[0mpath\u001b[0m\u001b[0;34m=\u001b[0m\u001b[0;34m[\u001b[0m\u001b[0;34m'group'\u001b[0m\u001b[0;34m,\u001b[0m \u001b[0;34m'event'\u001b[0m\u001b[0;34m]\u001b[0m\u001b[0;34m,\u001b[0m \u001b[0mvalues\u001b[0m\u001b[0;34m=\u001b[0m\u001b[0;34m'number'\u001b[0m\u001b[0;34m)\u001b[0m\u001b[0;34m\u001b[0m\u001b[0;34m\u001b[0m\u001b[0m\n\u001b[0m\u001b[1;32m      2\u001b[0m \u001b[0mfig\u001b[0m\u001b[0;34m.\u001b[0m\u001b[0mshow\u001b[0m\u001b[0;34m(\u001b[0m\u001b[0;34m)\u001b[0m\u001b[0;34m\u001b[0m\u001b[0;34m\u001b[0m\u001b[0m\n",
      "\u001b[0;31mAttributeError\u001b[0m: module 'plotly.express' has no attribute 'sunburst'"
     ]
    }
   ],
   "source": [
    "fig = px.sunburst(funnel, path=['group', 'event'], values='number')\n",
    "fig.show()"
   ]
  },
  {
   "cell_type": "code",
   "execution_count": 58,
   "metadata": {},
   "outputs": [
    {
     "ename": "AttributeError",
     "evalue": "module 'plotly.express' has no attribute 'funnel'",
     "output_type": "error",
     "traceback": [
      "\u001b[0;31m---------------------------------------------------------------------------\u001b[0m",
      "\u001b[0;31mAttributeError\u001b[0m                            Traceback (most recent call last)",
      "\u001b[0;32m<ipython-input-58-0b05a281c03b>\u001b[0m in \u001b[0;36m<module>\u001b[0;34m\u001b[0m\n\u001b[0;32m----> 1\u001b[0;31m \u001b[0mfig\u001b[0m \u001b[0;34m=\u001b[0m \u001b[0mpx\u001b[0m\u001b[0;34m.\u001b[0m\u001b[0mfunnel\u001b[0m\u001b[0;34m(\u001b[0m\u001b[0mfunnel\u001b[0m\u001b[0;34m,\u001b[0m \u001b[0mx\u001b[0m \u001b[0;34m=\u001b[0m \u001b[0;34m'number'\u001b[0m\u001b[0;34m,\u001b[0m \u001b[0my\u001b[0m \u001b[0;34m=\u001b[0m \u001b[0;34m'event'\u001b[0m\u001b[0;34m,\u001b[0m \u001b[0mcolor\u001b[0m \u001b[0;34m=\u001b[0m \u001b[0;34m'group'\u001b[0m\u001b[0;34m)\u001b[0m\u001b[0;34m\u001b[0m\u001b[0;34m\u001b[0m\u001b[0m\n\u001b[0m\u001b[1;32m      2\u001b[0m \u001b[0mfig\u001b[0m\u001b[0;34m.\u001b[0m\u001b[0mshow\u001b[0m\u001b[0;34m(\u001b[0m\u001b[0;34m)\u001b[0m\u001b[0;34m\u001b[0m\u001b[0;34m\u001b[0m\u001b[0m\n",
      "\u001b[0;31mAttributeError\u001b[0m: module 'plotly.express' has no attribute 'funnel'"
     ]
    }
   ],
   "source": [
    "fig = px.funnel(funnel, x = 'number', y = 'event', color = 'group')\n",
    "fig.show()"
   ]
  },
  {
   "cell_type": "code",
   "execution_count": 24,
   "metadata": {},
   "outputs": [
    {
     "data": {
      "text/html": [
       "<style  type=\"text/css\" >\n",
       "</style><table id=\"T_df8e59b2_f823_11ea_9188_02420a391397\" ><thead>    <tr>        <th class=\"blank level0\" ></th>        <th class=\"col_heading level0 col0\" >event</th>        <th class=\"col_heading level0 col1\" >number</th>        <th class=\"col_heading level0 col2\" >share</th>    </tr></thead><tbody>\n",
       "                <tr>\n",
       "                        <th id=\"T_df8e59b2_f823_11ea_9188_02420a391397level0_row0\" class=\"row_heading level0 row0\" >0</th>\n",
       "                        <td id=\"T_df8e59b2_f823_11ea_9188_02420a391397row0_col0\" class=\"data row0 col0\" >MainScreenAppear</td>\n",
       "                        <td id=\"T_df8e59b2_f823_11ea_9188_02420a391397row0_col1\" class=\"data row0 col1\" >7419</td>\n",
       "                        <td id=\"T_df8e59b2_f823_11ea_9188_02420a391397row0_col2\" class=\"data row0 col2\" >100%</td>\n",
       "            </tr>\n",
       "            <tr>\n",
       "                        <th id=\"T_df8e59b2_f823_11ea_9188_02420a391397level0_row1\" class=\"row_heading level0 row1\" >1</th>\n",
       "                        <td id=\"T_df8e59b2_f823_11ea_9188_02420a391397row1_col0\" class=\"data row1 col0\" >OffersScreenAppear</td>\n",
       "                        <td id=\"T_df8e59b2_f823_11ea_9188_02420a391397row1_col1\" class=\"data row1 col1\" >4593</td>\n",
       "                        <td id=\"T_df8e59b2_f823_11ea_9188_02420a391397row1_col2\" class=\"data row1 col2\" >62%</td>\n",
       "            </tr>\n",
       "            <tr>\n",
       "                        <th id=\"T_df8e59b2_f823_11ea_9188_02420a391397level0_row2\" class=\"row_heading level0 row2\" >2</th>\n",
       "                        <td id=\"T_df8e59b2_f823_11ea_9188_02420a391397row2_col0\" class=\"data row2 col0\" >CartScreenAppear</td>\n",
       "                        <td id=\"T_df8e59b2_f823_11ea_9188_02420a391397row2_col1\" class=\"data row2 col1\" >3734</td>\n",
       "                        <td id=\"T_df8e59b2_f823_11ea_9188_02420a391397row2_col2\" class=\"data row2 col2\" >50%</td>\n",
       "            </tr>\n",
       "            <tr>\n",
       "                        <th id=\"T_df8e59b2_f823_11ea_9188_02420a391397level0_row3\" class=\"row_heading level0 row3\" >3</th>\n",
       "                        <td id=\"T_df8e59b2_f823_11ea_9188_02420a391397row3_col0\" class=\"data row3 col0\" >PaymentScreenSuccessful</td>\n",
       "                        <td id=\"T_df8e59b2_f823_11ea_9188_02420a391397row3_col1\" class=\"data row3 col1\" >3539</td>\n",
       "                        <td id=\"T_df8e59b2_f823_11ea_9188_02420a391397row3_col2\" class=\"data row3 col2\" >48%</td>\n",
       "            </tr>\n",
       "    </tbody></table>"
      ],
      "text/plain": [
       "<pandas.io.formats.style.Styler at 0x7f7195af6c10>"
      ]
     },
     "execution_count": 24,
     "metadata": {},
     "output_type": "execute_result"
    }
   ],
   "source": [
    "funnel_from_df(data).style.format({'share': '{:,.0%}'.format})"
   ]
  },
  {
   "cell_type": "markdown",
   "metadata": {},
   "source": [
    "Выводы, которые можно сделать по таблице:\n",
    "* Наибольшие потери пользователей происходят на этапе перехода с главного экрана на экран предложений (-38%);\n",
    "* Дальше процесс до завершения покупки идет с меньшими потерями: -12% и -2% от изначального количества пользователей для перехода в корзину и оплаты соответственно;\n",
    "* До оплаты доходят 48% от изначальных пользователей."
   ]
  },
  {
   "cell_type": "code",
   "execution_count": 25,
   "metadata": {},
   "outputs": [
    {
     "data": {
      "text/html": [
       "<style  type=\"text/css\" >\n",
       "</style><table id=\"T_df90e22c_f823_11ea_9188_02420a391397\" ><thead>    <tr>        <th class=\"blank level0\" ></th>        <th class=\"col_heading level0 col0\" >event</th>        <th class=\"col_heading level0 col1\" >group</th>        <th class=\"col_heading level0 col2\" >number</th>        <th class=\"col_heading level0 col3\" >share</th>    </tr></thead><tbody>\n",
       "                <tr>\n",
       "                        <th id=\"T_df90e22c_f823_11ea_9188_02420a391397level0_row0\" class=\"row_heading level0 row0\" >0</th>\n",
       "                        <td id=\"T_df90e22c_f823_11ea_9188_02420a391397row0_col0\" class=\"data row0 col0\" >MainScreenAppear</td>\n",
       "                        <td id=\"T_df90e22c_f823_11ea_9188_02420a391397row0_col1\" class=\"data row0 col1\" >246</td>\n",
       "                        <td id=\"T_df90e22c_f823_11ea_9188_02420a391397row0_col2\" class=\"data row0 col2\" >2450</td>\n",
       "                        <td id=\"T_df90e22c_f823_11ea_9188_02420a391397row0_col3\" class=\"data row0 col3\" >100%</td>\n",
       "            </tr>\n",
       "            <tr>\n",
       "                        <th id=\"T_df90e22c_f823_11ea_9188_02420a391397level0_row1\" class=\"row_heading level0 row1\" >1</th>\n",
       "                        <td id=\"T_df90e22c_f823_11ea_9188_02420a391397row1_col0\" class=\"data row1 col0\" >OffersScreenAppear</td>\n",
       "                        <td id=\"T_df90e22c_f823_11ea_9188_02420a391397row1_col1\" class=\"data row1 col1\" >246</td>\n",
       "                        <td id=\"T_df90e22c_f823_11ea_9188_02420a391397row1_col2\" class=\"data row1 col2\" >1542</td>\n",
       "                        <td id=\"T_df90e22c_f823_11ea_9188_02420a391397row1_col3\" class=\"data row1 col3\" >63%</td>\n",
       "            </tr>\n",
       "            <tr>\n",
       "                        <th id=\"T_df90e22c_f823_11ea_9188_02420a391397level0_row2\" class=\"row_heading level0 row2\" >2</th>\n",
       "                        <td id=\"T_df90e22c_f823_11ea_9188_02420a391397row2_col0\" class=\"data row2 col0\" >CartScreenAppear</td>\n",
       "                        <td id=\"T_df90e22c_f823_11ea_9188_02420a391397row2_col1\" class=\"data row2 col1\" >246</td>\n",
       "                        <td id=\"T_df90e22c_f823_11ea_9188_02420a391397row2_col2\" class=\"data row2 col2\" >1266</td>\n",
       "                        <td id=\"T_df90e22c_f823_11ea_9188_02420a391397row2_col3\" class=\"data row2 col3\" >52%</td>\n",
       "            </tr>\n",
       "            <tr>\n",
       "                        <th id=\"T_df90e22c_f823_11ea_9188_02420a391397level0_row3\" class=\"row_heading level0 row3\" >3</th>\n",
       "                        <td id=\"T_df90e22c_f823_11ea_9188_02420a391397row3_col0\" class=\"data row3 col0\" >PaymentScreenSuccessful</td>\n",
       "                        <td id=\"T_df90e22c_f823_11ea_9188_02420a391397row3_col1\" class=\"data row3 col1\" >246</td>\n",
       "                        <td id=\"T_df90e22c_f823_11ea_9188_02420a391397row3_col2\" class=\"data row3 col2\" >1200</td>\n",
       "                        <td id=\"T_df90e22c_f823_11ea_9188_02420a391397row3_col3\" class=\"data row3 col3\" >49%</td>\n",
       "            </tr>\n",
       "            <tr>\n",
       "                        <th id=\"T_df90e22c_f823_11ea_9188_02420a391397level0_row4\" class=\"row_heading level0 row4\" >4</th>\n",
       "                        <td id=\"T_df90e22c_f823_11ea_9188_02420a391397row4_col0\" class=\"data row4 col0\" >MainScreenAppear</td>\n",
       "                        <td id=\"T_df90e22c_f823_11ea_9188_02420a391397row4_col1\" class=\"data row4 col1\" >247</td>\n",
       "                        <td id=\"T_df90e22c_f823_11ea_9188_02420a391397row4_col2\" class=\"data row4 col2\" >2476</td>\n",
       "                        <td id=\"T_df90e22c_f823_11ea_9188_02420a391397row4_col3\" class=\"data row4 col3\" >100%</td>\n",
       "            </tr>\n",
       "            <tr>\n",
       "                        <th id=\"T_df90e22c_f823_11ea_9188_02420a391397level0_row5\" class=\"row_heading level0 row5\" >5</th>\n",
       "                        <td id=\"T_df90e22c_f823_11ea_9188_02420a391397row5_col0\" class=\"data row5 col0\" >OffersScreenAppear</td>\n",
       "                        <td id=\"T_df90e22c_f823_11ea_9188_02420a391397row5_col1\" class=\"data row5 col1\" >247</td>\n",
       "                        <td id=\"T_df90e22c_f823_11ea_9188_02420a391397row5_col2\" class=\"data row5 col2\" >1520</td>\n",
       "                        <td id=\"T_df90e22c_f823_11ea_9188_02420a391397row5_col3\" class=\"data row5 col3\" >61%</td>\n",
       "            </tr>\n",
       "            <tr>\n",
       "                        <th id=\"T_df90e22c_f823_11ea_9188_02420a391397level0_row6\" class=\"row_heading level0 row6\" >6</th>\n",
       "                        <td id=\"T_df90e22c_f823_11ea_9188_02420a391397row6_col0\" class=\"data row6 col0\" >CartScreenAppear</td>\n",
       "                        <td id=\"T_df90e22c_f823_11ea_9188_02420a391397row6_col1\" class=\"data row6 col1\" >247</td>\n",
       "                        <td id=\"T_df90e22c_f823_11ea_9188_02420a391397row6_col2\" class=\"data row6 col2\" >1238</td>\n",
       "                        <td id=\"T_df90e22c_f823_11ea_9188_02420a391397row6_col3\" class=\"data row6 col3\" >50%</td>\n",
       "            </tr>\n",
       "            <tr>\n",
       "                        <th id=\"T_df90e22c_f823_11ea_9188_02420a391397level0_row7\" class=\"row_heading level0 row7\" >7</th>\n",
       "                        <td id=\"T_df90e22c_f823_11ea_9188_02420a391397row7_col0\" class=\"data row7 col0\" >PaymentScreenSuccessful</td>\n",
       "                        <td id=\"T_df90e22c_f823_11ea_9188_02420a391397row7_col1\" class=\"data row7 col1\" >247</td>\n",
       "                        <td id=\"T_df90e22c_f823_11ea_9188_02420a391397row7_col2\" class=\"data row7 col2\" >1158</td>\n",
       "                        <td id=\"T_df90e22c_f823_11ea_9188_02420a391397row7_col3\" class=\"data row7 col3\" >47%</td>\n",
       "            </tr>\n",
       "            <tr>\n",
       "                        <th id=\"T_df90e22c_f823_11ea_9188_02420a391397level0_row8\" class=\"row_heading level0 row8\" >8</th>\n",
       "                        <td id=\"T_df90e22c_f823_11ea_9188_02420a391397row8_col0\" class=\"data row8 col0\" >MainScreenAppear</td>\n",
       "                        <td id=\"T_df90e22c_f823_11ea_9188_02420a391397row8_col1\" class=\"data row8 col1\" >248</td>\n",
       "                        <td id=\"T_df90e22c_f823_11ea_9188_02420a391397row8_col2\" class=\"data row8 col2\" >2493</td>\n",
       "                        <td id=\"T_df90e22c_f823_11ea_9188_02420a391397row8_col3\" class=\"data row8 col3\" >100%</td>\n",
       "            </tr>\n",
       "            <tr>\n",
       "                        <th id=\"T_df90e22c_f823_11ea_9188_02420a391397level0_row9\" class=\"row_heading level0 row9\" >9</th>\n",
       "                        <td id=\"T_df90e22c_f823_11ea_9188_02420a391397row9_col0\" class=\"data row9 col0\" >OffersScreenAppear</td>\n",
       "                        <td id=\"T_df90e22c_f823_11ea_9188_02420a391397row9_col1\" class=\"data row9 col1\" >248</td>\n",
       "                        <td id=\"T_df90e22c_f823_11ea_9188_02420a391397row9_col2\" class=\"data row9 col2\" >1531</td>\n",
       "                        <td id=\"T_df90e22c_f823_11ea_9188_02420a391397row9_col3\" class=\"data row9 col3\" >61%</td>\n",
       "            </tr>\n",
       "            <tr>\n",
       "                        <th id=\"T_df90e22c_f823_11ea_9188_02420a391397level0_row10\" class=\"row_heading level0 row10\" >10</th>\n",
       "                        <td id=\"T_df90e22c_f823_11ea_9188_02420a391397row10_col0\" class=\"data row10 col0\" >CartScreenAppear</td>\n",
       "                        <td id=\"T_df90e22c_f823_11ea_9188_02420a391397row10_col1\" class=\"data row10 col1\" >248</td>\n",
       "                        <td id=\"T_df90e22c_f823_11ea_9188_02420a391397row10_col2\" class=\"data row10 col2\" >1230</td>\n",
       "                        <td id=\"T_df90e22c_f823_11ea_9188_02420a391397row10_col3\" class=\"data row10 col3\" >49%</td>\n",
       "            </tr>\n",
       "            <tr>\n",
       "                        <th id=\"T_df90e22c_f823_11ea_9188_02420a391397level0_row11\" class=\"row_heading level0 row11\" >11</th>\n",
       "                        <td id=\"T_df90e22c_f823_11ea_9188_02420a391397row11_col0\" class=\"data row11 col0\" >PaymentScreenSuccessful</td>\n",
       "                        <td id=\"T_df90e22c_f823_11ea_9188_02420a391397row11_col1\" class=\"data row11 col1\" >248</td>\n",
       "                        <td id=\"T_df90e22c_f823_11ea_9188_02420a391397row11_col2\" class=\"data row11 col2\" >1181</td>\n",
       "                        <td id=\"T_df90e22c_f823_11ea_9188_02420a391397row11_col3\" class=\"data row11 col3\" >47%</td>\n",
       "            </tr>\n",
       "    </tbody></table>"
      ],
      "text/plain": [
       "<pandas.io.formats.style.Styler at 0x7f7190994bd0>"
      ]
     },
     "execution_count": 25,
     "metadata": {},
     "output_type": "execute_result"
    }
   ],
   "source": [
    "funnel.style.format({'share': '{:,.0%}'.format})"
   ]
  },
  {
   "cell_type": "markdown",
   "metadata": {},
   "source": [
    "Результаты экспериментальной группы (248) на каждом этапе почти такие же, как и у одной из контрольных (247), но на 2 процентных пункта ниже, чем у другой (246). Разница между группами возникает на этапе перехода от главного экрана к экрану предложений, и не исправляется на следующих этапах."
   ]
  },
  {
   "cell_type": "markdown",
   "metadata": {},
   "source": [
    "# 3. Изучение результатов эксперимента"
   ]
  },
  {
   "cell_type": "markdown",
   "metadata": {},
   "source": [
    "Сколько пользователей в каждой экспериментальной группе?"
   ]
  },
  {
   "cell_type": "code",
   "execution_count": 26,
   "metadata": {},
   "outputs": [
    {
     "data": {
      "text/html": [
       "<div>\n",
       "<style scoped>\n",
       "    .dataframe tbody tr th:only-of-type {\n",
       "        vertical-align: middle;\n",
       "    }\n",
       "\n",
       "    .dataframe tbody tr th {\n",
       "        vertical-align: top;\n",
       "    }\n",
       "\n",
       "    .dataframe thead th {\n",
       "        text-align: right;\n",
       "    }\n",
       "</style>\n",
       "<table border=\"1\" class=\"dataframe\">\n",
       "  <thead>\n",
       "    <tr style=\"text-align: right;\">\n",
       "      <th></th>\n",
       "      <th>group</th>\n",
       "      <th>deviceID</th>\n",
       "    </tr>\n",
       "  </thead>\n",
       "  <tbody>\n",
       "    <tr>\n",
       "      <td>0</td>\n",
       "      <td>246</td>\n",
       "      <td>2484</td>\n",
       "    </tr>\n",
       "    <tr>\n",
       "      <td>1</td>\n",
       "      <td>247</td>\n",
       "      <td>2513</td>\n",
       "    </tr>\n",
       "    <tr>\n",
       "      <td>2</td>\n",
       "      <td>248</td>\n",
       "      <td>2537</td>\n",
       "    </tr>\n",
       "  </tbody>\n",
       "</table>\n",
       "</div>"
      ],
      "text/plain": [
       "   group  deviceID\n",
       "0    246      2484\n",
       "1    247      2513\n",
       "2    248      2537"
      ]
     },
     "execution_count": 26,
     "metadata": {},
     "output_type": "execute_result"
    }
   ],
   "source": [
    "groups_in_logs_full = data.pivot_table(index='group', values='deviceID', aggfunc=pd.Series.nunique).reset_index()\n",
    "groups_in_logs_full"
   ]
  },
  {
   "cell_type": "code",
   "execution_count": 27,
   "metadata": {},
   "outputs": [
    {
     "data": {
      "text/html": [
       "<div>\n",
       "<style scoped>\n",
       "    .dataframe tbody tr th:only-of-type {\n",
       "        vertical-align: middle;\n",
       "    }\n",
       "\n",
       "    .dataframe tbody tr th {\n",
       "        vertical-align: top;\n",
       "    }\n",
       "\n",
       "    .dataframe thead th {\n",
       "        text-align: right;\n",
       "    }\n",
       "</style>\n",
       "<table border=\"1\" class=\"dataframe\">\n",
       "  <thead>\n",
       "    <tr style=\"text-align: right;\">\n",
       "      <th>group</th>\n",
       "      <th>event</th>\n",
       "      <th>246</th>\n",
       "      <th>247</th>\n",
       "      <th>248</th>\n",
       "    </tr>\n",
       "  </thead>\n",
       "  <tbody>\n",
       "    <tr>\n",
       "      <td>0</td>\n",
       "      <td>CartScreenAppear</td>\n",
       "      <td>1266</td>\n",
       "      <td>1238</td>\n",
       "      <td>1230</td>\n",
       "    </tr>\n",
       "    <tr>\n",
       "      <td>1</td>\n",
       "      <td>MainScreenAppear</td>\n",
       "      <td>2450</td>\n",
       "      <td>2476</td>\n",
       "      <td>2493</td>\n",
       "    </tr>\n",
       "    <tr>\n",
       "      <td>2</td>\n",
       "      <td>OffersScreenAppear</td>\n",
       "      <td>1542</td>\n",
       "      <td>1520</td>\n",
       "      <td>1531</td>\n",
       "    </tr>\n",
       "    <tr>\n",
       "      <td>3</td>\n",
       "      <td>PaymentScreenSuccessful</td>\n",
       "      <td>1200</td>\n",
       "      <td>1158</td>\n",
       "      <td>1181</td>\n",
       "    </tr>\n",
       "    <tr>\n",
       "      <td>4</td>\n",
       "      <td>Tutorial</td>\n",
       "      <td>278</td>\n",
       "      <td>283</td>\n",
       "      <td>279</td>\n",
       "    </tr>\n",
       "  </tbody>\n",
       "</table>\n",
       "</div>"
      ],
      "text/plain": [
       "group                    event   246   247   248\n",
       "0             CartScreenAppear  1266  1238  1230\n",
       "1             MainScreenAppear  2450  2476  2493\n",
       "2           OffersScreenAppear  1542  1520  1531\n",
       "3      PaymentScreenSuccessful  1200  1158  1181\n",
       "4                     Tutorial   278   283   279"
      ]
     },
     "execution_count": 27,
     "metadata": {},
     "output_type": "execute_result"
    }
   ],
   "source": [
    "groups_in_logs_full_forZ_pivot = data.pivot_table(index = 'event', columns='group', values='deviceID', aggfunc=pd.Series.nunique).reset_index()\n",
    "groups_in_logs_full_forZ_pivot"
   ]
  },
  {
   "cell_type": "markdown",
   "metadata": {},
   "source": [
    "Выберите самое популярное событие. Посчитайте число пользователей, совершивших это событие в каждой из контрольных групп."
   ]
  },
  {
   "cell_type": "code",
   "execution_count": 28,
   "metadata": {},
   "outputs": [
    {
     "data": {
      "text/plain": [
       "group\n",
       "246    MainScreenAppear\n",
       "247    MainScreenAppear\n",
       "248    MainScreenAppear\n",
       "dtype: object"
      ]
     },
     "execution_count": 28,
     "metadata": {},
     "output_type": "execute_result"
    }
   ],
   "source": [
    "data.pivot_table(index = 'event', columns = 'group', values = 'deviceID', aggfunc = 'count').idxmax()"
   ]
  },
  {
   "cell_type": "markdown",
   "metadata": {},
   "source": [
    "Самое популярное событие во всех группах - показ главного экрана (MainScreenAppear)."
   ]
  },
  {
   "cell_type": "markdown",
   "metadata": {},
   "source": [
    "* Есть 2 контрольные группы для А/А-эксперимента, чтобы проверить корректность всех механизмов и расчётов. Проверьте, находят ли статистические критерии разницу между выборками 246 и 247.\n",
    "* Посчитайте долю пользователей, совершивших это событие. Проверьте, будет ли отличие между группами статистически достоверным.\n",
    "* Проделайте то же самое для всех других событий (удобно обернуть проверку в отдельную функцию). Можно ли сказать, что разбиение на группы работает корректно?\n",
    "* Аналогично поступите с группой с изменённым шрифтом. Сравните результаты с каждой из контрольных групп в отдельности по каждому событию. Сравните результаты с объединённой контрольной группой. Какие выводы из эксперимента можно сделать?"
   ]
  },
  {
   "cell_type": "markdown",
   "metadata": {},
   "source": [
    "Пишу функцию для z-тестов:"
   ]
  },
  {
   "cell_type": "code",
   "execution_count": 29,
   "metadata": {},
   "outputs": [],
   "source": [
    "# клиентов, имевших событие воронки в каждой из групп (они же успехи для теста)\n",
    "\n",
    "\n",
    "def Ztest (users_with_events_GROUP1_main, users_with_events_GROUP2_main, \n",
    "           users_with_events_GROUP1_offer, users_with_events_GROUP2_offer,\n",
    "           users_with_events_GROUP1_basket, users_with_events_GROUP2_basket,\n",
    "           users_with_events_GROUP1_pay, users_with_events_GROUP2_pay,\n",
    "           total_unique_users_GROUP1, total_unique_users_GROUP2):\n",
    "    \n",
    "    alpha = .05 # критический уровень статистической значимости\n",
    "\n",
    "    users_with_events_main = np.array([users_with_events_GROUP1_main, users_with_events_GROUP2_main])\n",
    "    users_with_events_offer = np.array([users_with_events_GROUP1_offer, users_with_events_GROUP2_offer])\n",
    "    users_with_events_basket = np.array([users_with_events_GROUP1_basket, users_with_events_GROUP2_basket])\n",
    "    users_with_events_pay = np.array([users_with_events_GROUP1_pay, users_with_events_GROUP2_pay])\n",
    "    \n",
    "    total_unique_users = np.array([total_unique_users_GROUP1, total_unique_users_GROUP2])\n",
    "\n",
    "# расчитаем процент успеха в каждой из групп\n",
    "    p1_main = users_with_events_main[0]/total_unique_users[0]\n",
    "    p2_main = users_with_events_main[1]/total_unique_users[1]\n",
    "    \n",
    "    p1_offer = users_with_events_offer[0]/total_unique_users[0]\n",
    "    p2_offer = users_with_events_offer[1]/total_unique_users[1]\n",
    "    \n",
    "    p1_basket = users_with_events_basket[0]/total_unique_users[0]\n",
    "    p2_basket = users_with_events_basket[1]/total_unique_users[1]\n",
    "    \n",
    "    p1_pay = users_with_events_pay[0]/total_unique_users[0]\n",
    "    p2_pay = users_with_events_pay[1]/total_unique_users[1]\n",
    "    \n",
    "# расчитаем разницу долей успеха в каждой из групп\n",
    "    difference_main = p1_main - p2_main\n",
    "    difference_offer = p1_offer - p2_offer\n",
    "    difference_basket = p1_basket - p2_basket\n",
    "    difference_pay = p1_pay - p2_pay\n",
    "    \n",
    "# пропорция успехов в комбинированном датасете:\n",
    "    p_combined_main = (users_with_events_main[0] + users_with_events_main[1]) / (total_unique_users[0] + total_unique_users[1])\n",
    "    z_value_main = difference_main / mth.sqrt(p_combined_main * (1 - p_combined_main) * (1/total_unique_users[0] + 1/total_unique_users[1]))\n",
    "\n",
    "    p_combined_offer = (users_with_events_offer[0] + users_with_events_offer[1]) / (total_unique_users[0] + total_unique_users[1])\n",
    "    z_value_offer = difference_offer / mth.sqrt(p_combined_offer * (1 - p_combined_offer) * (1/total_unique_users[0] + 1/total_unique_users[1]))\n",
    "\n",
    "    p_combined_basket = (users_with_events_basket[0] + users_with_events_basket[1]) / (total_unique_users[0] + total_unique_users[1])\n",
    "    z_value_basket = difference_basket / mth.sqrt(p_combined_basket * (1 - p_combined_basket) * (1/total_unique_users[0] + 1/total_unique_users[1]))\n",
    "    \n",
    "    p_combined_pay = (users_with_events_pay[0] + users_with_events_pay[1]) / (total_unique_users[0] + total_unique_users[1])\n",
    "    z_value_pay = difference_pay / mth.sqrt(p_combined_pay * (1 - p_combined_pay) * (1/total_unique_users[0] + 1/total_unique_users[1]))\n",
    "    \n",
    "# задаем стандартное нормальное распределение (среднее 0, ст.отклонение 1)\n",
    "    distr = st.norm(0, 1)\n",
    "    \n",
    "# рассчитаем p-value\n",
    "\n",
    "    p_value_main = (1 - distr.cdf(abs(z_value_main))) * 2\n",
    "    p_value_offer = (1 - distr.cdf(abs(z_value_offer))) * 2\n",
    "    p_value_basket = (1 - distr.cdf(abs(z_value_basket))) * 2\n",
    "    p_value_pay = (1 - distr.cdf(abs(z_value_pay))) * 2\n",
    "\n",
    "\n",
    "    print('p-значение MainScreenAppear: ', p_value_main)\n",
    "    if (p_value_main < alpha):\n",
    "        print(\"Отвергаем нулевую гипотезу: между долями захода посетителей в группах GROUP1/GROUP2 на главную страницу есть значимая разница\")\n",
    "    else:\n",
    "        print(\"Не получилось отвергнуть нулевую гипотезу, что доли захода посетилетей в группах GROUP1/GROUP2 на главную страницу одинаковы, нет оснований считать доли разными\")\n",
    "        \n",
    "    print('p-значение OffersScreenAppear: ', p_value_offer)\n",
    "    if (p_value_offer < alpha):\n",
    "        print(\"Отвергаем нулевую гипотезу: между долями захода посетителей в группах GROUP1/GROUP2 на страницу заказа есть значимая разница\")\n",
    "    else:\n",
    "        print(\"Не получилось отвергнуть нулевую гипотезу, что доли захода посетилетей в группах GROUP1/GROUP2 на страницу заказа одинаковы, нет оснований считать доли разными\")\n",
    "        \n",
    "    print('p-значение CartScreenAppear: ', p_value_basket)\n",
    "    if (p_value_basket < alpha):\n",
    "        print(\"Отвергаем нулевую гипотезу: между долями захода посетителей в группах GROUP1/GROUP2 на страницу корзины есть значимая разница\")\n",
    "    else:\n",
    "        print(\"Не получилось отвергнуть нулевую гипотезу, что доли захода посетилетей в группах GROUP1/GROUP2 на страницу корзины одинаковы, нет оснований считать доли разными\")\n",
    "        \n",
    "    print('p-значение PaymentScreenSuccessful: ', p_value_pay)    \n",
    "    if (p_value_pay < alpha):\n",
    "        print(\"Отвергаем нулевую гипотезу: между долями захода посетителей в группах GROUP1/GROUP2 на страницу оплаты есть значимая разница\")\n",
    "    else:\n",
    "        print(\"Не получилось отвергнуть нулевую гипотезу, что доли захода посетилетей в группах GROUP1/GROUP2 на страницу оплаты одинаковы, нет оснований считать доли разными\")"
   ]
  },
  {
   "cell_type": "markdown",
   "metadata": {},
   "source": [
    "**Проверяем Z критерием группы 246 и 247 (А1 А2 тест)**"
   ]
  },
  {
   "cell_type": "code",
   "execution_count": 30,
   "metadata": {},
   "outputs": [
    {
     "name": "stdout",
     "output_type": "stream",
     "text": [
      "p-значение MainScreenAppear:  0.7570597232046099\n",
      "Не получилось отвергнуть нулевую гипотезу, что доли захода посетилетей в группах GROUP1/GROUP2 на главную страницу одинаковы, нет оснований считать доли разными\n",
      "p-значение OffersScreenAppear:  0.2480954578522181\n",
      "Не получилось отвергнуть нулевую гипотезу, что доли захода посетилетей в группах GROUP1/GROUP2 на страницу заказа одинаковы, нет оснований считать доли разными\n",
      "p-значение CartScreenAppear:  0.22883372237997213\n",
      "Не получилось отвергнуть нулевую гипотезу, что доли захода посетилетей в группах GROUP1/GROUP2 на страницу корзины одинаковы, нет оснований считать доли разными\n",
      "p-значение PaymentScreenSuccessful:  0.11456679313141849\n",
      "Не получилось отвергнуть нулевую гипотезу, что доли захода посетилетей в группах GROUP1/GROUP2 на страницу оплаты одинаковы, нет оснований считать доли разными\n"
     ]
    }
   ],
   "source": [
    "Ztest_246_247_new = Ztest(groups_in_logs_full_forZ_pivot.loc[1, 246], groups_in_logs_full_forZ_pivot.loc[1, 247],\n",
    "                          groups_in_logs_full_forZ_pivot.loc[2, 246], groups_in_logs_full_forZ_pivot.loc[2, 247],\n",
    "                          groups_in_logs_full_forZ_pivot.loc[0, 246], groups_in_logs_full_forZ_pivot.loc[0, 247],\n",
    "                          groups_in_logs_full_forZ_pivot.loc[3, 246], groups_in_logs_full_forZ_pivot.loc[3, 247],\n",
    "                          groups_in_logs_full.loc[0, 'deviceID'], groups_in_logs_full.loc[1, 'deviceID'])"
   ]
  },
  {
   "cell_type": "markdown",
   "metadata": {},
   "source": [
    "**Проверяем Z критерием группы 246 и 248 (А1 В тест)**"
   ]
  },
  {
   "cell_type": "code",
   "execution_count": 31,
   "metadata": {},
   "outputs": [
    {
     "name": "stdout",
     "output_type": "stream",
     "text": [
      "p-значение MainScreenAppear:  0.2949721933554552\n",
      "Не получилось отвергнуть нулевую гипотезу, что доли захода посетилетей в группах GROUP1/GROUP2 на главную страницу одинаковы, нет оснований считать доли разными\n",
      "p-значение OffersScreenAppear:  0.20836205402738917\n",
      "Не получилось отвергнуть нулевую гипотезу, что доли захода посетилетей в группах GROUP1/GROUP2 на страницу заказа одинаковы, нет оснований считать доли разными\n",
      "p-значение CartScreenAppear:  0.07842923237520116\n",
      "Не получилось отвергнуть нулевую гипотезу, что доли захода посетилетей в группах GROUP1/GROUP2 на страницу корзины одинаковы, нет оснований считать доли разными\n",
      "p-значение PaymentScreenSuccessful:  0.2122553275697796\n",
      "Не получилось отвергнуть нулевую гипотезу, что доли захода посетилетей в группах GROUP1/GROUP2 на страницу оплаты одинаковы, нет оснований считать доли разными\n"
     ]
    }
   ],
   "source": [
    "Ztest_246_248_new = Ztest(groups_in_logs_full_forZ_pivot.loc[1, 246], groups_in_logs_full_forZ_pivot.loc[1, 248],\n",
    "                          groups_in_logs_full_forZ_pivot.loc[2, 246], groups_in_logs_full_forZ_pivot.loc[2, 248],\n",
    "                          groups_in_logs_full_forZ_pivot.loc[0, 246], groups_in_logs_full_forZ_pivot.loc[0, 248],\n",
    "                          groups_in_logs_full_forZ_pivot.loc[3, 246], groups_in_logs_full_forZ_pivot.loc[3, 248],\n",
    "                          groups_in_logs_full.loc[0, 'deviceID'], groups_in_logs_full.loc[2, 'deviceID'])"
   ]
  },
  {
   "cell_type": "markdown",
   "metadata": {},
   "source": [
    "**Проверяем Z критерием группы 247 и 248 (А2 В тест)**"
   ]
  },
  {
   "cell_type": "code",
   "execution_count": 32,
   "metadata": {},
   "outputs": [
    {
     "name": "stdout",
     "output_type": "stream",
     "text": [
      "p-значение MainScreenAppear:  0.4587053616621515\n",
      "Не получилось отвергнуть нулевую гипотезу, что доли захода посетилетей в группах GROUP1/GROUP2 на главную страницу одинаковы, нет оснований считать доли разными\n",
      "p-значение OffersScreenAppear:  0.9197817830592261\n",
      "Не получилось отвергнуть нулевую гипотезу, что доли захода посетилетей в группах GROUP1/GROUP2 на страницу заказа одинаковы, нет оснований считать доли разными\n",
      "p-значение CartScreenAppear:  0.5786197879539783\n",
      "Не получилось отвергнуть нулевую гипотезу, что доли захода посетилетей в группах GROUP1/GROUP2 на страницу корзины одинаковы, нет оснований считать доли разными\n",
      "p-значение PaymentScreenSuccessful:  0.7373415053803964\n",
      "Не получилось отвергнуть нулевую гипотезу, что доли захода посетилетей в группах GROUP1/GROUP2 на страницу оплаты одинаковы, нет оснований считать доли разными\n"
     ]
    }
   ],
   "source": [
    "Ztest_247_248_new = Ztest(groups_in_logs_full_forZ_pivot.loc[1, 247], groups_in_logs_full_forZ_pivot.loc[1, 248],\n",
    "                          groups_in_logs_full_forZ_pivot.loc[2, 247], groups_in_logs_full_forZ_pivot.loc[2, 248],\n",
    "                          groups_in_logs_full_forZ_pivot.loc[0, 247], groups_in_logs_full_forZ_pivot.loc[0, 248],\n",
    "                          groups_in_logs_full_forZ_pivot.loc[3, 247], groups_in_logs_full_forZ_pivot.loc[3, 248],\n",
    "                          groups_in_logs_full.loc[1, 'deviceID'], groups_in_logs_full.loc[2, 'deviceID'])"
   ]
  },
  {
   "cell_type": "markdown",
   "metadata": {},
   "source": [
    "**Посмотрим уникальных пользователей в базе с полными логами**"
   ]
  },
  {
   "cell_type": "code",
   "execution_count": 34,
   "metadata": {},
   "outputs": [
    {
     "data": {
      "text/html": [
       "<div>\n",
       "<style scoped>\n",
       "    .dataframe tbody tr th:only-of-type {\n",
       "        vertical-align: middle;\n",
       "    }\n",
       "\n",
       "    .dataframe tbody tr th {\n",
       "        vertical-align: top;\n",
       "    }\n",
       "\n",
       "    .dataframe thead th {\n",
       "        text-align: right;\n",
       "    }\n",
       "</style>\n",
       "<table border=\"1\" class=\"dataframe\">\n",
       "  <thead>\n",
       "    <tr style=\"text-align: right;\">\n",
       "      <th>group</th>\n",
       "      <th>event</th>\n",
       "      <th>246</th>\n",
       "      <th>247</th>\n",
       "      <th>248</th>\n",
       "    </tr>\n",
       "  </thead>\n",
       "  <tbody>\n",
       "    <tr>\n",
       "      <td>0</td>\n",
       "      <td>CartScreenAppear</td>\n",
       "      <td>1266</td>\n",
       "      <td>1238</td>\n",
       "      <td>1230</td>\n",
       "    </tr>\n",
       "    <tr>\n",
       "      <td>1</td>\n",
       "      <td>MainScreenAppear</td>\n",
       "      <td>2450</td>\n",
       "      <td>2476</td>\n",
       "      <td>2493</td>\n",
       "    </tr>\n",
       "    <tr>\n",
       "      <td>2</td>\n",
       "      <td>OffersScreenAppear</td>\n",
       "      <td>1542</td>\n",
       "      <td>1520</td>\n",
       "      <td>1531</td>\n",
       "    </tr>\n",
       "    <tr>\n",
       "      <td>3</td>\n",
       "      <td>PaymentScreenSuccessful</td>\n",
       "      <td>1200</td>\n",
       "      <td>1158</td>\n",
       "      <td>1181</td>\n",
       "    </tr>\n",
       "    <tr>\n",
       "      <td>4</td>\n",
       "      <td>Tutorial</td>\n",
       "      <td>278</td>\n",
       "      <td>283</td>\n",
       "      <td>279</td>\n",
       "    </tr>\n",
       "  </tbody>\n",
       "</table>\n",
       "</div>"
      ],
      "text/plain": [
       "group                    event   246   247   248\n",
       "0             CartScreenAppear  1266  1238  1230\n",
       "1             MainScreenAppear  2450  2476  2493\n",
       "2           OffersScreenAppear  1542  1520  1531\n",
       "3      PaymentScreenSuccessful  1200  1158  1181\n",
       "4                     Tutorial   278   283   279"
      ]
     },
     "execution_count": 34,
     "metadata": {},
     "output_type": "execute_result"
    }
   ],
   "source": [
    "groups_in_logs_full_forZ_pivot = data.pivot_table(index='event', columns='group', values='deviceID', aggfunc=pd.Series.nunique).reset_index()\n",
    "groups_in_logs_full_forZ_pivot"
   ]
  },
  {
   "cell_type": "markdown",
   "metadata": {},
   "source": [
    "**Подсчитаем по событиям общее количество уникальных пользователей групп А1 и А2 (246 и 247)**"
   ]
  },
  {
   "cell_type": "code",
   "execution_count": 35,
   "metadata": {},
   "outputs": [
    {
     "data": {
      "text/html": [
       "<div>\n",
       "<style scoped>\n",
       "    .dataframe tbody tr th:only-of-type {\n",
       "        vertical-align: middle;\n",
       "    }\n",
       "\n",
       "    .dataframe tbody tr th {\n",
       "        vertical-align: top;\n",
       "    }\n",
       "\n",
       "    .dataframe thead th {\n",
       "        text-align: right;\n",
       "    }\n",
       "</style>\n",
       "<table border=\"1\" class=\"dataframe\">\n",
       "  <thead>\n",
       "    <tr style=\"text-align: right;\">\n",
       "      <th>group</th>\n",
       "      <th>event</th>\n",
       "      <th>246</th>\n",
       "      <th>247</th>\n",
       "      <th>248</th>\n",
       "      <th>total246_247</th>\n",
       "    </tr>\n",
       "  </thead>\n",
       "  <tbody>\n",
       "    <tr>\n",
       "      <td>0</td>\n",
       "      <td>CartScreenAppear</td>\n",
       "      <td>1266</td>\n",
       "      <td>1238</td>\n",
       "      <td>1230</td>\n",
       "      <td>2504</td>\n",
       "    </tr>\n",
       "    <tr>\n",
       "      <td>1</td>\n",
       "      <td>MainScreenAppear</td>\n",
       "      <td>2450</td>\n",
       "      <td>2476</td>\n",
       "      <td>2493</td>\n",
       "      <td>4926</td>\n",
       "    </tr>\n",
       "    <tr>\n",
       "      <td>2</td>\n",
       "      <td>OffersScreenAppear</td>\n",
       "      <td>1542</td>\n",
       "      <td>1520</td>\n",
       "      <td>1531</td>\n",
       "      <td>3062</td>\n",
       "    </tr>\n",
       "    <tr>\n",
       "      <td>3</td>\n",
       "      <td>PaymentScreenSuccessful</td>\n",
       "      <td>1200</td>\n",
       "      <td>1158</td>\n",
       "      <td>1181</td>\n",
       "      <td>2358</td>\n",
       "    </tr>\n",
       "    <tr>\n",
       "      <td>4</td>\n",
       "      <td>Tutorial</td>\n",
       "      <td>278</td>\n",
       "      <td>283</td>\n",
       "      <td>279</td>\n",
       "      <td>561</td>\n",
       "    </tr>\n",
       "  </tbody>\n",
       "</table>\n",
       "</div>"
      ],
      "text/plain": [
       "group                    event   246   247   248  total246_247\n",
       "0             CartScreenAppear  1266  1238  1230          2504\n",
       "1             MainScreenAppear  2450  2476  2493          4926\n",
       "2           OffersScreenAppear  1542  1520  1531          3062\n",
       "3      PaymentScreenSuccessful  1200  1158  1181          2358\n",
       "4                     Tutorial   278   283   279           561"
      ]
     },
     "execution_count": 35,
     "metadata": {},
     "output_type": "execute_result"
    }
   ],
   "source": [
    "groups_in_logs_full_forZ_pivot['total246_247'] = groups_in_logs_full_forZ_pivot[246] +  groups_in_logs_full_forZ_pivot[247]\n",
    "groups_in_logs_full_forZ_pivot"
   ]
  },
  {
   "cell_type": "code",
   "execution_count": 37,
   "metadata": {},
   "outputs": [
    {
     "data": {
      "text/plain": [
       "4997"
      ]
     },
     "execution_count": 37,
     "metadata": {},
     "output_type": "execute_result"
    }
   ],
   "source": [
    "unique246_247_total = groups_in_logs_full.loc[0, 'deviceID'] + groups_in_logs_full.loc[1, 'deviceID']\n",
    "unique246_247_total"
   ]
  },
  {
   "cell_type": "markdown",
   "metadata": {},
   "source": [
    "**Проверяем Z критерием группы 246+247 и 248 (A1+А2 и В тест)**"
   ]
  },
  {
   "cell_type": "code",
   "execution_count": 38,
   "metadata": {},
   "outputs": [
    {
     "name": "stdout",
     "output_type": "stream",
     "text": [
      "p-значение MainScreenAppear:  0.29424526837179577\n",
      "Не получилось отвергнуть нулевую гипотезу, что доли захода посетилетей в группах GROUP1/GROUP2 на главную страницу одинаковы, нет оснований считать доли разными\n",
      "p-значение OffersScreenAppear:  0.43425549655188256\n",
      "Не получилось отвергнуть нулевую гипотезу, что доли захода посетилетей в группах GROUP1/GROUP2 на страницу заказа одинаковы, нет оснований считать доли разными\n",
      "p-значение CartScreenAppear:  0.18175875284404386\n",
      "Не получилось отвергнуть нулевую гипотезу, что доли захода посетилетей в группах GROUP1/GROUP2 на страницу корзины одинаковы, нет оснований считать доли разными\n",
      "p-значение PaymentScreenSuccessful:  0.6004294282308704\n",
      "Не получилось отвергнуть нулевую гипотезу, что доли захода посетилетей в группах GROUP1/GROUP2 на страницу оплаты одинаковы, нет оснований считать доли разными\n"
     ]
    }
   ],
   "source": [
    "Ztest_246and247_vs_248_new = Ztest(groups_in_logs_full_forZ_pivot.loc[1, 'total246_247'], groups_in_logs_full_forZ_pivot.loc[1, 248],\n",
    "                          groups_in_logs_full_forZ_pivot.loc[2, 'total246_247'], groups_in_logs_full_forZ_pivot.loc[2, 248],\n",
    "                          groups_in_logs_full_forZ_pivot.loc[0, 'total246_247'], groups_in_logs_full_forZ_pivot.loc[0, 248],\n",
    "                          groups_in_logs_full_forZ_pivot.loc[3, 'total246_247'], groups_in_logs_full_forZ_pivot.loc[3, 248],\n",
    "                          unique246_247_total, groups_in_logs_full.loc[2, 'deviceID'])"
   ]
  },
  {
   "cell_type": "markdown",
   "metadata": {},
   "source": [
    "* Если подставить p-value равное 0,1 (т.е. изменить уровень критической значимости с 5% до 10%), то один из тестов нам даст значимые различия в долях - а именно тест \"CartScreenAppear246_248\" - тест контрольной группы 246 и тестируемой 248.\n",
    "* В случае с уровнем критической значимости 10% можно получить 1 из 10 ложный результат теста, мы из провели 16, соответственно, предполагаем, что результат теста \"CartScreenAppear246_248\" - является ошибочным.\n",
    "* В случае исследования, результаты которого не связаны с жизнью и здоровьем или иным очень весомым и значимым для общества параметром, достаточен уровень значимости 5%, в случае если цена ошибки очень велика, стоит снизить цровень значимости до 1% или даже еще ниже (в зависимости от конкретной ситуации).\n",
    "* В нашем случае уровень критической значимости (альфа) 5% можно считать оптимальным и на основе него принимать решение."
   ]
  },
  {
   "cell_type": "markdown",
   "metadata": {},
   "source": []
  },
  {
   "cell_type": "markdown",
   "metadata": {},
   "source": [
    "# Общий вывод:"
   ]
  },
  {
   "cell_type": "markdown",
   "metadata": {},
   "source": [
    "На данный момент доли в наших выборках не имеют статистичекски значимых различий, причиной этому могут быть следующие факторы:\n",
    "\n",
    "* Посетителям сайта не принципиален шрифт, и различий в контрольной и тестируемой группе действительно нет.\n",
    "* Мы пока недостаточно долго проводим наше исследование, тогда стоит продлить сбор данных еще на 1 неделю и провести новые замеры."
   ]
  },
  {
   "cell_type": "code",
   "execution_count": null,
   "metadata": {},
   "outputs": [],
   "source": []
  }
 ],
 "metadata": {
  "kernelspec": {
   "display_name": "Python 3",
   "language": "python",
   "name": "python3"
  },
  "language_info": {
   "codemirror_mode": {
    "name": "ipython",
    "version": 3
   },
   "file_extension": ".py",
   "mimetype": "text/x-python",
   "name": "python",
   "nbconvert_exporter": "python",
   "pygments_lexer": "ipython3",
   "version": "3.7.6"
  }
 },
 "nbformat": 4,
 "nbformat_minor": 2
}
